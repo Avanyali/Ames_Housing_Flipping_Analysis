{
 "cells": [
  {
   "cell_type": "code",
   "execution_count": 1,
   "id": "continued-circulation",
   "metadata": {},
   "outputs": [],
   "source": [
    "import pandas as pd\n",
    "import matplotlib.pyplot as plt\n",
    "import seaborn as sns\n",
    "import numpy as np\n",
    "import scipy.stats as stats\n",
    "import missingno as msno\n",
    "import re\n",
    "import math\n",
    "\n",
    "from sklearn.linear_model import LinearRegression\n",
    "from sklearn.model_selection import train_test_split\n",
    "from sklearn.metrics import r2_score"
   ]
  },
  {
   "cell_type": "code",
   "execution_count": 2,
   "id": "fossil-trail",
   "metadata": {},
   "outputs": [],
   "source": [
    "tr = pd.read_csv(\"datasets/train.csv\")\n",
    "tr_test = pd.read_csv(\"datasets/test.csv\")\n",
    "\n",
    "tr['training'] = 1\n",
    "tr_test['training'] = 0\n",
    "tr_all = tr.append(tr_test)"
   ]
  },
  {
   "cell_type": "markdown",
   "id": "oriented-executive",
   "metadata": {},
   "source": [
    "***Data Cleaning***"
   ]
  },
  {
   "cell_type": "code",
   "execution_count": 3,
   "id": "three-serve",
   "metadata": {},
   "outputs": [],
   "source": [
    "def convert_to_snake_case(df):\n",
    "    #add a space between any lowercase-capital letter pair, then replace spaces with _, the all to lowercase\n",
    "    new_cols = {col: re.sub(r\"([a-z]{1})([A-Z]{1})\", r\"\\1 \\2\", col).replace(\" \", \"_\").lower() for col in df.columns}\n",
    "    return df.rename(columns = new_cols, inplace = True)"
   ]
  },
  {
   "cell_type": "code",
   "execution_count": 4,
   "id": "qualified-seattle",
   "metadata": {},
   "outputs": [],
   "source": [
    "def zero_counts(df):\n",
    "    counts = {col: df[col].value_counts().to_dict().get(0) for col in df.columns if df[col].value_counts().to_dict().get(0) != None}\n",
    "    return {key: value for key, value in counts.items() if value > 0}"
   ]
  },
  {
   "cell_type": "code",
   "execution_count": 5,
   "id": "russian-basin",
   "metadata": {},
   "outputs": [],
   "source": [
    "def neg_counts(df):\n",
    "    counts = {col: sum([val for key, val in df[col].value_counts().items() if type(key) in [float, int] and key < 0]) for col in df.columns}\n",
    "    return {key: value for key, value in counts.items() if value > 0}"
   ]
  },
  {
   "cell_type": "code",
   "execution_count": 6,
   "id": "necessary-aruba",
   "metadata": {},
   "outputs": [],
   "source": [
    "def yes_no_to_bin(word):\n",
    "    true_words = ['yes', 'true', 'y', 't']\n",
    "    false_words = ['no', 'false', 'n', 'f']\n",
    "    \n",
    "    if str(word).lower() in true_words:\n",
    "        return 1\n",
    "    elif str(word).lower() in false_words:\n",
    "        return 0\n",
    "    else:\n",
    "        return word"
   ]
  },
  {
   "cell_type": "code",
   "execution_count": 7,
   "id": "confident-victory",
   "metadata": {},
   "outputs": [],
   "source": [
    "def get_corr_above_or_below(df, percentage):\n",
    "    corr = df.corr()\n",
    "    col_rows = corr.columns.tolist()\n",
    "    \n",
    "    keep_corrs = {}\n",
    "    for col in col_rows:\n",
    "        for row in col_rows:\n",
    "            if corr.loc[col, row] >= percentage or corr.loc[col, row] <= percentage*-1:\n",
    "                if col == row:\n",
    "                    break\n",
    "                if col in keep_corrs:\n",
    "                    keep_corrs[col][row] = corr.loc[col, row]\n",
    "                else:\n",
    "                    keep_corrs[col] = {row: corr.loc[col, row]}\n",
    "                    \n",
    "    return keep_corrs"
   ]
  },
  {
   "cell_type": "code",
   "execution_count": 8,
   "id": "working-enzyme",
   "metadata": {},
   "outputs": [],
   "source": [
    "def outlier_dict(df, deviation = 3):\n",
    "    cols = df.dtypes.to_dict()\n",
    "    \n",
    "    outlier_locations = {}\n",
    "    for col, dtype in cols.items():\n",
    "        if dtype in [np.float64, np.int64]:\n",
    "            locations = np.abs(stats.zscore(df[col])) > deviation #credit to: https://stackoverflow.com/questions/23199796/detect-and-exclude-outliers-in-pandas-data-frame\n",
    "            out_rows = df[locations]\n",
    "            \n",
    "            for row in out_rows.iterrows():\n",
    "                loc = df.index.get_loc(row[0])\n",
    "                if col in outlier_locations:\n",
    "                    outlier_locations[col].append(loc)\n",
    "                else:\n",
    "                    outlier_locations[col] = [loc]\n",
    "                    \n",
    "    return outlier_locations"
   ]
  },
  {
   "cell_type": "code",
   "execution_count": 9,
   "id": "major-sharing",
   "metadata": {},
   "outputs": [],
   "source": [
    "def outlier_dict_to_df(dictionary, original_df):\n",
    "    out_cols = original_df.columns.tolist()\n",
    "    out_cols.append(\"outlier_column_name\")\n",
    "    outliers = pd.DataFrame(columns = out_cols)\n",
    "\n",
    "    for col, indices in dictionary.items():\n",
    "        for index in indices:\n",
    "            row = original_df.iloc[index].to_dict()\n",
    "            row['outlier_column_name'] = col\n",
    "            outliers = outliers.append(row, ignore_index = True)\n",
    "            #outliers.style.applymap('background-color: yellow', outliers.iloc[outliers.shape[0] - 1, outliers.columns.get_loc(col)])outliers = outlier_dict_to_df(outlier_dict(sac), sac)\n",
    "\n",
    "    return outliers"
   ]
  },
  {
   "cell_type": "code",
   "execution_count": 10,
   "id": "hearing-australia",
   "metadata": {},
   "outputs": [],
   "source": [
    "def corrs_selection(df, col, threshold = .5, greater_than = True):\n",
    "    sale_corr = df.corr().to_dict()[col]\n",
    "    if greater_than:\n",
    "        sale_corr = {key: val for key, val in sale_corr.items() if val > threshold}\n",
    "    else:\n",
    "        sale_corr = {key: val for key, val in sale_corr.items() if val < threshold}\n",
    "        \n",
    "    return pd.DataFrame(sale_corr, index =[0])"
   ]
  },
  {
   "cell_type": "code",
   "execution_count": 11,
   "id": "native-yemen",
   "metadata": {},
   "outputs": [],
   "source": [
    "convert_to_snake_case(tr_all)"
   ]
  },
  {
   "cell_type": "code",
   "execution_count": 12,
   "id": "american-regular",
   "metadata": {},
   "outputs": [],
   "source": [
    "tr_all = tr_all.applymap(yes_no_to_bin)"
   ]
  },
  {
   "cell_type": "markdown",
   "id": "prompt-tunisia",
   "metadata": {},
   "source": [
    "# NaN Cleaning"
   ]
  },
  {
   "cell_type": "code",
   "execution_count": 13,
   "id": "progressive-rates",
   "metadata": {},
   "outputs": [
    {
     "data": {
      "text/plain": [
       "{'lot_frontage': 330,\n",
       " 'alley': 1911,\n",
       " 'mas_vnr_type': 22,\n",
       " 'mas_vnr_area': 22,\n",
       " 'bsmt_qual': 55,\n",
       " 'bsmt_cond': 55,\n",
       " 'bsmt_exposure': 58,\n",
       " 'bsmt_fin_type_1': 55,\n",
       " 'bsmt_fin_sf_1': 1,\n",
       " 'bsmt_fin_type_2': 56,\n",
       " 'bsmt_fin_sf_2': 1,\n",
       " 'bsmt_unf_sf': 1,\n",
       " 'total_bsmt_sf': 1,\n",
       " 'bsmt_full_bath': 2,\n",
       " 'bsmt_half_bath': 2,\n",
       " 'fireplace_qu': 1000,\n",
       " 'garage_type': 113,\n",
       " 'garage_yr_blt': 114,\n",
       " 'garage_finish': 114,\n",
       " 'garage_cars': 1,\n",
       " 'garage_area': 1,\n",
       " 'garage_qual': 114,\n",
       " 'garage_cond': 114,\n",
       " 'pool_qc': 2042,\n",
       " 'fence': 1651,\n",
       " 'misc_feature': 1986}"
      ]
     },
     "execution_count": 13,
     "metadata": {},
     "output_type": "execute_result"
    }
   ],
   "source": [
    "{key: val for key, val in tr_all[tr_all['training'] == 1].isna().sum().to_dict().items() if int(val) > 0}"
   ]
  },
  {
   "cell_type": "markdown",
   "id": "instrumental-trade",
   "metadata": {},
   "source": [
    "Rows to dummy"
   ]
  },
  {
   "cell_type": "markdown",
   "id": "nutritional-minority",
   "metadata": {},
   "source": [
    "- Lot frontage has NaNs that cannot be 0, since all houses have to be connected to the street. It is highly correlated to lot area, which is the lot's square feet. We can make the assumption that all houses are roughly square for the purposes of approximating lot_frontage, as frontage represents one side and thus the root."
   ]
  },
  {
   "cell_type": "code",
   "execution_count": 14,
   "id": "stopped-quantity",
   "metadata": {},
   "outputs": [
    {
     "data": {
      "text/html": [
       "<div>\n",
       "<style scoped>\n",
       "    .dataframe tbody tr th:only-of-type {\n",
       "        vertical-align: middle;\n",
       "    }\n",
       "\n",
       "    .dataframe tbody tr th {\n",
       "        vertical-align: top;\n",
       "    }\n",
       "\n",
       "    .dataframe thead th {\n",
       "        text-align: right;\n",
       "    }\n",
       "</style>\n",
       "<table border=\"1\" class=\"dataframe\">\n",
       "  <thead>\n",
       "    <tr style=\"text-align: right;\">\n",
       "      <th></th>\n",
       "      <th>lot_frontage</th>\n",
       "      <th>lot_area</th>\n",
       "    </tr>\n",
       "  </thead>\n",
       "  <tbody>\n",
       "    <tr>\n",
       "      <th>0</th>\n",
       "      <td>1.0</td>\n",
       "      <td>0.574024</td>\n",
       "    </tr>\n",
       "  </tbody>\n",
       "</table>\n",
       "</div>"
      ],
      "text/plain": [
       "   lot_frontage  lot_area\n",
       "0           1.0  0.574024"
      ]
     },
     "execution_count": 14,
     "metadata": {},
     "output_type": "execute_result"
    }
   ],
   "source": [
    "corrs_selection(tr_all[tr_all['training'] == 1], 'lot_frontage')"
   ]
  },
  {
   "cell_type": "code",
   "execution_count": 15,
   "id": "disciplinary-execution",
   "metadata": {},
   "outputs": [],
   "source": [
    "front = tr_all['lot_frontage'].tolist()\n",
    "area = tr_all['lot_area'].to_list()\n",
    "\n",
    "for i in range(0, len(front)):\n",
    "    if math.isnan(front[i]):\n",
    "        front[i] = area[i]**.5\n",
    "\n",
    "tr_all['lot_frontage'] = pd.Series(front)"
   ]
  },
  {
   "cell_type": "markdown",
   "id": "seeing-attribute",
   "metadata": {},
   "source": [
    "- Alley is nominal, and NaN values are meaningful in the data dictionary. We will dummy the column.\n",
    "- Mas Vnr Type is nominal with meaningful NaNs. No removal necessary.\n",
    "- Mas Vnr Area is always NaN when Mas Vnr Type is. Type being NaN indicates no veneer type, so we will set veneer area to 0."
   ]
  },
  {
   "cell_type": "code",
   "execution_count": 16,
   "id": "accurate-comedy",
   "metadata": {},
   "outputs": [],
   "source": [
    "tr_all['mas_vnr_area'] = tr_all['mas_vnr_area'].map(lambda x: x if not math.isnan(x) else 0)"
   ]
  },
  {
   "cell_type": "markdown",
   "id": "likely-worthy",
   "metadata": {},
   "source": [
    "- Basement sf1, sf2, unf sf, total sf, full bath, and half bath are all continuous data. The only nulls in those values are in rows where bsmt_exposure is NaN, indicating that there is no basement. These values will be set to 0."
   ]
  },
  {
   "cell_type": "code",
   "execution_count": 34,
   "id": "generic-sleep",
   "metadata": {},
   "outputs": [
    {
     "data": {
      "text/html": [
       "<div>\n",
       "<style scoped>\n",
       "    .dataframe tbody tr th:only-of-type {\n",
       "        vertical-align: middle;\n",
       "    }\n",
       "\n",
       "    .dataframe tbody tr th {\n",
       "        vertical-align: top;\n",
       "    }\n",
       "\n",
       "    .dataframe thead th {\n",
       "        text-align: right;\n",
       "    }\n",
       "</style>\n",
       "<table border=\"1\" class=\"dataframe\">\n",
       "  <thead>\n",
       "    <tr style=\"text-align: right;\">\n",
       "      <th></th>\n",
       "      <th>training</th>\n",
       "      <th>bsmt_qual</th>\n",
       "      <th>bsmt_cond</th>\n",
       "      <th>bsmt_exposure</th>\n",
       "      <th>bsmt_fin_type_1</th>\n",
       "      <th>bsmt_fin_sf_1</th>\n",
       "      <th>bsmt_fin_type_2</th>\n",
       "      <th>bsmt_fin_sf_2</th>\n",
       "      <th>bsmt_unf_sf</th>\n",
       "      <th>total_bsmt_sf</th>\n",
       "      <th>bsmt_full_bath</th>\n",
       "      <th>bsmt_half_bath</th>\n",
       "    </tr>\n",
       "  </thead>\n",
       "  <tbody>\n",
       "    <tr>\n",
       "      <th>616</th>\n",
       "      <td>1</td>\n",
       "      <td>NaN</td>\n",
       "      <td>NaN</td>\n",
       "      <td>NaN</td>\n",
       "      <td>NaN</td>\n",
       "      <td>0.0</td>\n",
       "      <td>NaN</td>\n",
       "      <td>0.0</td>\n",
       "      <td>0.0</td>\n",
       "      <td>0.0</td>\n",
       "      <td>NaN</td>\n",
       "      <td>NaN</td>\n",
       "    </tr>\n",
       "    <tr>\n",
       "      <th>1327</th>\n",
       "      <td>1</td>\n",
       "      <td>NaN</td>\n",
       "      <td>NaN</td>\n",
       "      <td>NaN</td>\n",
       "      <td>NaN</td>\n",
       "      <td>NaN</td>\n",
       "      <td>NaN</td>\n",
       "      <td>NaN</td>\n",
       "      <td>NaN</td>\n",
       "      <td>NaN</td>\n",
       "      <td>NaN</td>\n",
       "      <td>NaN</td>\n",
       "    </tr>\n",
       "  </tbody>\n",
       "</table>\n",
       "</div>"
      ],
      "text/plain": [
       "      training bsmt_qual bsmt_cond bsmt_exposure bsmt_fin_type_1  \\\n",
       "616          1       NaN       NaN           NaN             NaN   \n",
       "1327         1       NaN       NaN           NaN             NaN   \n",
       "\n",
       "      bsmt_fin_sf_1 bsmt_fin_type_2  bsmt_fin_sf_2  bsmt_unf_sf  \\\n",
       "616             0.0             NaN            0.0          0.0   \n",
       "1327            NaN             NaN            NaN          NaN   \n",
       "\n",
       "      total_bsmt_sf  bsmt_full_bath  bsmt_half_bath  \n",
       "616             0.0             NaN             NaN  \n",
       "1327            NaN             NaN             NaN  "
      ]
     },
     "execution_count": 34,
     "metadata": {},
     "output_type": "execute_result"
    }
   ],
   "source": [
    "tr_all[tr_all['bsmt_full_bath'].isna()][['training', 'bsmt_qual', 'bsmt_cond', 'bsmt_exposure', 'bsmt_fin_type_1', 'bsmt_fin_sf_1', 'bsmt_fin_type_2', 'bsmt_fin_sf_2', 'bsmt_unf_sf', 'total_bsmt_sf', 'bsmt_full_bath', 'bsmt_half_bath']]"
   ]
  },
  {
   "cell_type": "code",
   "execution_count": 39,
   "id": "overall-bishop",
   "metadata": {},
   "outputs": [],
   "source": [
    "basement_nums = ['bsmt_fin_sf_1','bsmt_fin_sf_2', 'bsmt_unf_sf', 'total_bsmt_sf', 'bsmt_full_bath', 'bsmt_half_bath']\n",
    "for col in basement_nums:\n",
    "    tr_all[col] = tr_all[col].map(lambda x: x if not math.isnan(x) else 0)"
   ]
  },
  {
   "cell_type": "markdown",
   "id": "confirmed-grace",
   "metadata": {},
   "source": [
    "- Basement quality, condition, exposure, type1, and type2 are all ordinal values with meaningful NaNs. They will be dummied later.\n",
    "- Fireplace qu is ordinal with a meaningful NaN.\n",
    "- Garage cars and garage area are discrete values that are only NaN in a single row. That row has all it's garage ordinal and nominal values indicating that there is no garage except for garage type. We will set cars and area to 0 and type to NaN to be in line with other, similar rows."
   ]
  },
  {
   "cell_type": "code",
   "execution_count": 43,
   "id": "nuclear-relationship",
   "metadata": {},
   "outputs": [
    {
     "data": {
      "text/html": [
       "<div>\n",
       "<style scoped>\n",
       "    .dataframe tbody tr th:only-of-type {\n",
       "        vertical-align: middle;\n",
       "    }\n",
       "\n",
       "    .dataframe tbody tr th {\n",
       "        vertical-align: top;\n",
       "    }\n",
       "\n",
       "    .dataframe thead th {\n",
       "        text-align: right;\n",
       "    }\n",
       "</style>\n",
       "<table border=\"1\" class=\"dataframe\">\n",
       "  <thead>\n",
       "    <tr style=\"text-align: right;\">\n",
       "      <th></th>\n",
       "      <th>training</th>\n",
       "      <th>garage_type</th>\n",
       "      <th>garage_yr_blt</th>\n",
       "      <th>garage_finish</th>\n",
       "      <th>garage_cars</th>\n",
       "      <th>garage_area</th>\n",
       "      <th>garage_qual</th>\n",
       "      <th>garage_cond</th>\n",
       "    </tr>\n",
       "  </thead>\n",
       "  <tbody>\n",
       "    <tr>\n",
       "      <th>1712</th>\n",
       "      <td>1</td>\n",
       "      <td>Detchd</td>\n",
       "      <td>NaN</td>\n",
       "      <td>NaN</td>\n",
       "      <td>NaN</td>\n",
       "      <td>NaN</td>\n",
       "      <td>NaN</td>\n",
       "      <td>NaN</td>\n",
       "    </tr>\n",
       "  </tbody>\n",
       "</table>\n",
       "</div>"
      ],
      "text/plain": [
       "      training garage_type  garage_yr_blt garage_finish  garage_cars  \\\n",
       "1712         1      Detchd            NaN           NaN          NaN   \n",
       "\n",
       "      garage_area garage_qual garage_cond  \n",
       "1712          NaN         NaN         NaN  "
      ]
     },
     "execution_count": 43,
     "metadata": {},
     "output_type": "execute_result"
    }
   ],
   "source": [
    "tr_all[tr_all['garage_cars'].isna()][['training', 'garage_type', 'garage_yr_blt', 'garage_finish', 'garage_cars', 'garage_area', 'garage_qual', 'garage_cond']]"
   ]
  },
  {
   "cell_type": "code",
   "execution_count": 53,
   "id": "covered-chinese",
   "metadata": {},
   "outputs": [],
   "source": [
    "tr_all.iloc[1712, tr_all.columns.get_loc('garage_area')] = 0\n",
    "tr_all.iloc[1712, tr_all.columns.get_loc('garage_cars')] = 0\n",
    "tr_all.iloc[1712, tr_all.columns.get_loc('garage_type')] = np.NaN"
   ]
  },
  {
   "cell_type": "markdown",
   "id": "dense-proportion",
   "metadata": {},
   "source": [
    "- Garage type, year built, finish, quality, and condition all have meaningful NaNs that will be dummied later.\n",
    "- Pool qc, fence, and misc feature also full under this category. There are no more NaNs for us to clean."
   ]
  },
  {
   "cell_type": "code",
   "execution_count": 56,
   "id": "faced-accordance",
   "metadata": {
    "tags": []
   },
   "outputs": [
    {
     "data": {
      "text/plain": [
       "{'alley': 1911,\n",
       " 'mas_vnr_type': 22,\n",
       " 'bsmt_qual': 55,\n",
       " 'bsmt_cond': 55,\n",
       " 'bsmt_exposure': 58,\n",
       " 'bsmt_fin_type_1': 55,\n",
       " 'bsmt_fin_type_2': 56,\n",
       " 'fireplace_qu': 1000,\n",
       " 'garage_type': 114,\n",
       " 'garage_yr_blt': 114,\n",
       " 'garage_finish': 114,\n",
       " 'garage_qual': 114,\n",
       " 'garage_cond': 114,\n",
       " 'pool_qc': 2042,\n",
       " 'fence': 1651,\n",
       " 'misc_feature': 1986}"
      ]
     },
     "execution_count": 56,
     "metadata": {},
     "output_type": "execute_result"
    }
   ],
   "source": [
    "{key: val for key, val in tr_all[tr_all['training'] == 1].isna().sum().to_dict().items() if int(val) > 0}"
   ]
  },
  {
   "cell_type": "code",
   "execution_count": null,
   "id": "endangered-klein",
   "metadata": {},
   "outputs": [],
   "source": [
    "objects = {}\n",
    "for key, val in tr.dtypes.to_dict().items():\n",
    "    if val == np.dtype('O'):\n",
    "        objects[key] = tr[key].nunique()"
   ]
  },
  {
   "cell_type": "code",
   "execution_count": null,
   "id": "surprised-barbados",
   "metadata": {},
   "outputs": [],
   "source": [
    "sum(objects.values())"
   ]
  },
  {
   "cell_type": "code",
   "execution_count": null,
   "id": "loving-recording",
   "metadata": {},
   "outputs": [],
   "source": [
    "c = get_corr_above_or_below(tr, .5)\n",
    "all_good_corrs = pd.DataFrame(c)\n",
    "all_good_corrs"
   ]
  },
  {
   "cell_type": "code",
   "execution_count": null,
   "id": "early-mouse",
   "metadata": {},
   "outputs": [],
   "source": [
    "sale_corrs = corrs_selection(tr, 'sale_price')\n",
    "sale_corrs.drop(columns = ['sale_price'], inplace = True)\n",
    "sale_corrs"
   ]
  },
  {
   "cell_type": "code",
   "execution_count": null,
   "id": "impossible-jacob",
   "metadata": {},
   "outputs": [],
   "source": [
    "colinears = []\n",
    "sale_cols = sale_corrs.columns.tolist()\n",
    "all_colls = all_good_corrs.columns.tolist()\n",
    "all_rows = list(all_good_corrs[all_colls[0]].to_dict().keys())\n",
    "\n",
    "for col in sale_cols:\n",
    "    if col in all_colls:\n",
    "        for row in sale_cols:\n",
    "            if row in all_rows and col != row and not math.isnan(all_good_corrs[col][row]):\n",
    "                colinears.append((col, row))"
   ]
  },
  {
   "cell_type": "code",
   "execution_count": null,
   "id": "molecular-carpet",
   "metadata": {},
   "outputs": [],
   "source": [
    "colinear_counts = {}\n",
    "for a, b in colinears:\n",
    "    colinear_counts[a] = colinear_counts[a] + 1 if a in colinear_counts else 1\n",
    "    colinear_counts[b] = colinear_counts[b] + 1 if b in colinear_counts else 1\n",
    "    \n",
    "high_colinear_counts = []\n",
    "low_colinear_counts = []\n",
    "\n",
    "for key, val in colinear_counts.items():\n",
    "    if val > 4:\n",
    "        high_colinear_counts.append(key)\n",
    "    else:\n",
    "        low_colinear_counts.append(key)"
   ]
  },
  {
   "cell_type": "code",
   "execution_count": null,
   "id": "assisted-assistant",
   "metadata": {},
   "outputs": [],
   "source": [
    "x_list = good_corrs.columns.tolist()\n",
    "X = tr[x_list]\n",
    "y = tr['sale_price']\n",
    "lr = LinearRegression()\n",
    "X_train, X_test, y_train, y_test = train_test_split(X, y, random_state = 42)"
   ]
  },
  {
   "cell_type": "code",
   "execution_count": null,
   "id": "electoral-acrylic",
   "metadata": {},
   "outputs": [],
   "source": [
    "lr.fit(X_train, y_train)\n",
    "y_pred = lr.predict(X_test)\n",
    "r2_score(y_test, y_pred)"
   ]
  },
  {
   "cell_type": "code",
   "execution_count": null,
   "id": "former-given",
   "metadata": {},
   "outputs": [],
   "source": [
    "x_list = high_colinear_counts\n",
    "X = tr[x_list]\n",
    "y = tr['sale_price']\n",
    "lr = LinearRegression()\n",
    "X_train, X_test, y_train, y_test = train_test_split(X, y, random_state = 42)\n",
    "lr.fit(X_train, y_train)\n",
    "y_pred = lr.predict(X_test)\n",
    "r2_score(y_test, y_pred)"
   ]
  },
  {
   "cell_type": "code",
   "execution_count": null,
   "id": "molecular-abraham",
   "metadata": {},
   "outputs": [],
   "source": [
    "x_list = low_colinear_counts\n",
    "X = tr[x_list]\n",
    "y = tr['sale_price']\n",
    "lr = LinearRegression()\n",
    "X_train, X_test, y_train, y_test = train_test_split(X, y, random_state = 42)\n",
    "lr.fit(X_train, y_train)\n",
    "y_pred = lr.predict(X_test)\n",
    "r2_score(y_test, y_pred)"
   ]
  },
  {
   "cell_type": "code",
   "execution_count": null,
   "id": "burning-feedback",
   "metadata": {},
   "outputs": [],
   "source": [
    "high_colinear_counts"
   ]
  },
  {
   "cell_type": "code",
   "execution_count": null,
   "id": "hazardous-letters",
   "metadata": {},
   "outputs": [],
   "source": []
  }
 ],
 "metadata": {
  "kernelspec": {
   "display_name": "Python 3",
   "language": "python",
   "name": "python3"
  },
  "language_info": {
   "codemirror_mode": {
    "name": "ipython",
    "version": 3
   },
   "file_extension": ".py",
   "mimetype": "text/x-python",
   "name": "python",
   "nbconvert_exporter": "python",
   "pygments_lexer": "ipython3",
   "version": "3.7.6"
  }
 },
 "nbformat": 4,
 "nbformat_minor": 5
}
