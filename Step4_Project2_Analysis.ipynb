{
 "cells": [
  {
   "cell_type": "code",
   "execution_count": 1,
   "id": "beginning-platform",
   "metadata": {},
   "outputs": [],
   "source": [
    "import pandas as pd\n",
    "import matplotlib.pyplot as plt\n",
    "import seaborn as sns\n",
    "import numpy as np\n",
    "import mathis as mt\n",
    "import math\n",
    "from sklearn.linear_model import LassoCV, RidgeCV, LinearRegression, LogisticRegressionCV\n",
    "from sklearn.preprocessing import StandardScaler\n",
    "from sklearn.model_selection import train_test_split\n",
    "from sklearn.metrics import r2_score, mean_squared_error"
   ]
  },
  {
   "cell_type": "code",
   "execution_count": 2,
   "id": "tested-apple",
   "metadata": {},
   "outputs": [],
   "source": [
    "train = pd.read_csv(\"datasets/modified_train.csv\")\n",
    "test = pd.read_csv(\"datasets/modified_test.csv\")\n",
    "\n",
    "train = train.drop(columns = ['Unnamed: 0', 'training'])\n",
    "test = test.drop(columns = ['Unnamed: 0', 'training'])\n",
    "\n",
    "house = train.append(test)"
   ]
  },
  {
   "cell_type": "markdown",
   "id": "wooden-paper",
   "metadata": {},
   "source": [
    "# Analysis"
   ]
  },
  {
   "cell_type": "code",
   "execution_count": 3,
   "id": "operating-tuition",
   "metadata": {},
   "outputs": [],
   "source": [
    "x_list = house.columns.tolist()\n",
    "x_list.remove('sale_price')\n",
    "X = train[x_list]\n",
    "y = train['sale_price']"
   ]
  },
  {
   "cell_type": "code",
   "execution_count": 4,
   "id": "conditional-constitutional",
   "metadata": {},
   "outputs": [],
   "source": [
    "sc = StandardScaler()\n",
    "Z_train = sc.fit_transform(train[x_list])\n",
    "Z_test = sc.transform(test[x_list])\n",
    "r_alphas = np.logspace(0,100,1000)\n",
    "lasso_cv = LassoCV(alphas=r_alphas, random_state=42, cv=5, max_iter = 10000)\n",
    "lasso_cv.fit(Z_train,y);"
   ]
  },
  {
   "cell_type": "code",
   "execution_count": 5,
   "id": "annoying-feature",
   "metadata": {},
   "outputs": [],
   "source": [
    "coefs = lasso_cv.coef_\n",
    "lasso_weights = {}\n",
    "cols = x_list\n",
    "for i in range(0, len(coefs)):\n",
    "    lasso_weights[cols[i]] = coefs[i]"
   ]
  },
  {
   "cell_type": "code",
   "execution_count": 6,
   "id": "developed-earthquake",
   "metadata": {},
   "outputs": [],
   "source": [
    "lasso_weights = {key: val for key, val in lasso_weights.items() if val != 0}"
   ]
  },
  {
   "cell_type": "code",
   "execution_count": 8,
   "id": "advanced-banking",
   "metadata": {
    "tags": []
   },
   "outputs": [],
   "source": [
    "lr = LinearRegression()\n",
    "lr.fit(train[list(lasso_weights.keys())], train['sale_price']);"
   ]
  },
  {
   "cell_type": "code",
   "execution_count": 9,
   "id": "conservative-dayton",
   "metadata": {},
   "outputs": [],
   "source": [
    "weights_coefs = pd.DataFrame({'weights': lasso_weights.values(), 'slopes': lr.coef_}, index = lasso_weights.keys())"
   ]
  },
  {
   "cell_type": "code",
   "execution_count": 10,
   "id": "copyrighted-insured",
   "metadata": {},
   "outputs": [
    {
     "data": {
      "text/html": [
       "<div>\n",
       "<style scoped>\n",
       "    .dataframe tbody tr th:only-of-type {\n",
       "        vertical-align: middle;\n",
       "    }\n",
       "\n",
       "    .dataframe tbody tr th {\n",
       "        vertical-align: top;\n",
       "    }\n",
       "\n",
       "    .dataframe thead th {\n",
       "        text-align: right;\n",
       "    }\n",
       "</style>\n",
       "<table border=\"1\" class=\"dataframe\">\n",
       "  <thead>\n",
       "    <tr style=\"text-align: right;\">\n",
       "      <th></th>\n",
       "      <th>weights</th>\n",
       "      <th>slopes</th>\n",
       "    </tr>\n",
       "  </thead>\n",
       "  <tbody>\n",
       "    <tr>\n",
       "      <th>utilities_NoSeWa</th>\n",
       "      <td>-749.049674</td>\n",
       "      <td>-57672.945346</td>\n",
       "    </tr>\n",
       "    <tr>\n",
       "      <th>heating_OthW</th>\n",
       "      <td>-907.921399</td>\n",
       "      <td>-43863.852252</td>\n",
       "    </tr>\n",
       "    <tr>\n",
       "      <th>ms_sub_class_150</th>\n",
       "      <td>-509.467289</td>\n",
       "      <td>-40675.329513</td>\n",
       "    </tr>\n",
       "    <tr>\n",
       "      <th>misc_feature_TenC</th>\n",
       "      <td>-280.744235</td>\n",
       "      <td>-39304.082775</td>\n",
       "    </tr>\n",
       "    <tr>\n",
       "      <th>bldg_type_Twnhs</th>\n",
       "      <td>-2383.297833</td>\n",
       "      <td>-17864.883349</td>\n",
       "    </tr>\n",
       "    <tr>\n",
       "      <th>...</th>\n",
       "      <td>...</td>\n",
       "      <td>...</td>\n",
       "    </tr>\n",
       "    <tr>\n",
       "      <th>condition_2_PosN</th>\n",
       "      <td>856.224186</td>\n",
       "      <td>35067.926568</td>\n",
       "    </tr>\n",
       "    <tr>\n",
       "      <th>neighborhood_StoneBr</th>\n",
       "      <td>4340.919327</td>\n",
       "      <td>35455.157487</td>\n",
       "    </tr>\n",
       "    <tr>\n",
       "      <th>roof_matl_WdShngl</th>\n",
       "      <td>991.193204</td>\n",
       "      <td>35796.964500</td>\n",
       "    </tr>\n",
       "    <tr>\n",
       "      <th>condition_2_PosA</th>\n",
       "      <td>1152.786792</td>\n",
       "      <td>42448.350480</td>\n",
       "    </tr>\n",
       "    <tr>\n",
       "      <th>neighborhood_GrnHill</th>\n",
       "      <td>2820.033483</td>\n",
       "      <td>104413.225362</td>\n",
       "    </tr>\n",
       "  </tbody>\n",
       "</table>\n",
       "<p>121 rows × 2 columns</p>\n",
       "</div>"
      ],
      "text/plain": [
       "                          weights         slopes\n",
       "utilities_NoSeWa      -749.049674  -57672.945346\n",
       "heating_OthW          -907.921399  -43863.852252\n",
       "ms_sub_class_150      -509.467289  -40675.329513\n",
       "misc_feature_TenC     -280.744235  -39304.082775\n",
       "bldg_type_Twnhs      -2383.297833  -17864.883349\n",
       "...                           ...            ...\n",
       "condition_2_PosN       856.224186   35067.926568\n",
       "neighborhood_StoneBr  4340.919327   35455.157487\n",
       "roof_matl_WdShngl      991.193204   35796.964500\n",
       "condition_2_PosA      1152.786792   42448.350480\n",
       "neighborhood_GrnHill  2820.033483  104413.225362\n",
       "\n",
       "[121 rows x 2 columns]"
      ]
     },
     "execution_count": 10,
     "metadata": {},
     "output_type": "execute_result"
    }
   ],
   "source": [
    "weights_coefs.sort_values(by = 'slopes')"
   ]
  },
  {
   "cell_type": "code",
   "execution_count": null,
   "id": "typical-smith",
   "metadata": {},
   "outputs": [],
   "source": []
  }
 ],
 "metadata": {
  "kernelspec": {
   "display_name": "Python 3",
   "language": "python",
   "name": "python3"
  },
  "language_info": {
   "codemirror_mode": {
    "name": "ipython",
    "version": 3
   },
   "file_extension": ".py",
   "mimetype": "text/x-python",
   "name": "python",
   "nbconvert_exporter": "python",
   "pygments_lexer": "ipython3",
   "version": "3.7.6"
  }
 },
 "nbformat": 4,
 "nbformat_minor": 5
}
