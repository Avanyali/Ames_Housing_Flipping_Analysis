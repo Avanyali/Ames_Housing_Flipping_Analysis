{
 "cells": [
  {
   "cell_type": "code",
   "execution_count": 1,
   "id": "medium-display",
   "metadata": {},
   "outputs": [],
   "source": [
    "import pandas as pd\n",
    "import matplotlib.pyplot as plt\n",
    "import seaborn as sns\n",
    "import numpy as np\n",
    "import mathis as mt\n",
    "import math\n",
    "from sklearn.linear_model import LassoCV, RidgeCV, LinearRegression, LogisticRegressionCV\n",
    "from sklearn.preprocessing import StandardScaler\n",
    "from sklearn.model_selection import train_test_split\n",
    "from sklearn.metrics import r2_score, mean_squared_error"
   ]
  },
  {
   "cell_type": "code",
   "execution_count": 2,
   "id": "another-genealogy",
   "metadata": {},
   "outputs": [],
   "source": [
    "train = pd.read_csv(\"datasets/modified_train.csv\")\n",
    "test = pd.read_csv(\"datasets/modified_test.csv\")\n",
    "\n",
    "train = train.drop(columns = ['Unnamed: 0', 'training'])\n",
    "test = test.drop(columns = ['Unnamed: 0', 'training'])\n",
    "\n",
    "house = train.append(test)"
   ]
  },
  {
   "cell_type": "code",
   "execution_count": 3,
   "id": "facial-secret",
   "metadata": {},
   "outputs": [],
   "source": [
    "def quick_lr(columns):\n",
    "    X = train[columns]\n",
    "    y = train['sale_price']\n",
    "\n",
    "    X_train, X_test, y_train, y_test = train_test_split(X, y, random_state = 42)\n",
    "    lr = LinearRegression()\n",
    "    lr.fit(X_train, y_train)\n",
    "    y_pred = lr.predict(X_test)\n",
    "    return r2_score(y_test, y_pred), mean_squared_error(y_test, y_pred, squared = False)"
   ]
  },
  {
   "cell_type": "code",
   "execution_count": 4,
   "id": "horizontal-portrait",
   "metadata": {},
   "outputs": [],
   "source": [
    "def colinearity_count(df, columns, threshold = .5):\n",
    "    corr = df.corr()\n",
    "    counts = {key: 0 for key in columns}\n",
    "    \n",
    "    for row in columns:\n",
    "        for col in columns:\n",
    "            if corr[row][col] > threshold and row != col:\n",
    "                counts[row] += 1\n",
    "                \n",
    "    return counts"
   ]
  },
  {
   "cell_type": "markdown",
   "id": "proved-sodium",
   "metadata": {},
   "source": [
    "# Modeling"
   ]
  },
  {
   "cell_type": "markdown",
   "id": "extensive-philip",
   "metadata": {},
   "source": [
    "***Test Models***"
   ]
  },
  {
   "cell_type": "code",
   "execution_count": 5,
   "id": "applied-consensus",
   "metadata": {},
   "outputs": [],
   "source": [
    "x_list = house.columns.tolist()\n",
    "x_list.remove('sale_price')\n",
    "X = train[x_list]\n",
    "y = train['sale_price']\n",
    "\n",
    "X_train, X_test, y_train, y_test = train_test_split(X, y, random_state = 42)"
   ]
  },
  {
   "cell_type": "code",
   "execution_count": 6,
   "id": "parliamentary-provider",
   "metadata": {},
   "outputs": [],
   "source": [
    "sc = StandardScaler()\n",
    "Z_train = sc.fit_transform(X_train)\n",
    "Z_test = sc.transform(X_test)\n",
    "r_alphas = np.logspace(0,100,1000)\n",
    "lasso_cv = LassoCV(alphas=r_alphas, random_state=42, cv=5, max_iter = 10000)\n",
    "lasso_cv.fit(Z_train,y_train);\n",
    "lasso_pred = lasso_cv.predict(Z_test)"
   ]
  },
  {
   "cell_type": "code",
   "execution_count": 7,
   "id": "golden-eclipse",
   "metadata": {},
   "outputs": [],
   "source": [
    "sc = StandardScaler()\n",
    "Z_train2 = sc.fit_transform(X_train)\n",
    "Z_test2 = sc.transform(X_test)\n",
    "r_alphas = np.logspace(0,100,1000)\n",
    "ridge_cv = RidgeCV(alphas=r_alphas,scoring=\"neg_mean_squared_error\", cv=5)\n",
    "ridge_cv.fit(Z_train2,y_train);\n",
    "ridge_pred = ridge_cv.predict(Z_test2)"
   ]
  },
  {
   "cell_type": "code",
   "execution_count": 8,
   "id": "consecutive-teach",
   "metadata": {},
   "outputs": [
    {
     "data": {
      "text/html": [
       "<div>\n",
       "<style scoped>\n",
       "    .dataframe tbody tr th:only-of-type {\n",
       "        vertical-align: middle;\n",
       "    }\n",
       "\n",
       "    .dataframe tbody tr th {\n",
       "        vertical-align: top;\n",
       "    }\n",
       "\n",
       "    .dataframe thead th {\n",
       "        text-align: right;\n",
       "    }\n",
       "</style>\n",
       "<table border=\"1\" class=\"dataframe\">\n",
       "  <thead>\n",
       "    <tr style=\"text-align: right;\">\n",
       "      <th></th>\n",
       "      <th>overall_qual</th>\n",
       "      <th>year_built</th>\n",
       "      <th>year_remod/add</th>\n",
       "      <th>mas_vnr_area</th>\n",
       "      <th>exter_qual</th>\n",
       "      <th>bsmt_qual</th>\n",
       "      <th>total_bsmt_sf</th>\n",
       "      <th>1st_flr_sf</th>\n",
       "      <th>gr_liv_area</th>\n",
       "      <th>full_bath</th>\n",
       "      <th>kitchen_qual</th>\n",
       "      <th>tot_rms_abv_grd</th>\n",
       "      <th>fireplace_qu</th>\n",
       "      <th>garage_yr_blt</th>\n",
       "      <th>garage_finish</th>\n",
       "      <th>garage_cars</th>\n",
       "      <th>garage_area</th>\n",
       "      <th>foundation_PConc</th>\n",
       "    </tr>\n",
       "  </thead>\n",
       "  <tbody>\n",
       "    <tr>\n",
       "      <th>0</th>\n",
       "      <td>0.810548</td>\n",
       "      <td>0.585223</td>\n",
       "      <td>0.559321</td>\n",
       "      <td>0.503621</td>\n",
       "      <td>0.714711</td>\n",
       "      <td>0.619759</td>\n",
       "      <td>0.655701</td>\n",
       "      <td>0.643099</td>\n",
       "      <td>0.713283</td>\n",
       "      <td>0.542345</td>\n",
       "      <td>0.698426</td>\n",
       "      <td>0.503016</td>\n",
       "      <td>0.537636</td>\n",
       "      <td>0.568093</td>\n",
       "      <td>0.565849</td>\n",
       "      <td>0.653993</td>\n",
       "      <td>0.654364</td>\n",
       "      <td>0.542314</td>\n",
       "    </tr>\n",
       "  </tbody>\n",
       "</table>\n",
       "</div>"
      ],
      "text/plain": [
       "   overall_qual  year_built  year_remod/add  mas_vnr_area  exter_qual  \\\n",
       "0      0.810548    0.585223        0.559321      0.503621    0.714711   \n",
       "\n",
       "   bsmt_qual  total_bsmt_sf  1st_flr_sf  gr_liv_area  full_bath  kitchen_qual  \\\n",
       "0   0.619759       0.655701    0.643099     0.713283   0.542345      0.698426   \n",
       "\n",
       "   tot_rms_abv_grd  fireplace_qu  garage_yr_blt  garage_finish  garage_cars  \\\n",
       "0         0.503016      0.537636       0.568093       0.565849     0.653993   \n",
       "\n",
       "   garage_area  foundation_PConc  \n",
       "0     0.654364          0.542314  "
      ]
     },
     "execution_count": 8,
     "metadata": {},
     "output_type": "execute_result"
    }
   ],
   "source": [
    "best_corrs = mt.corrs_selection(train, 'sale_price')\n",
    "best_corrs"
   ]
  },
  {
   "cell_type": "code",
   "execution_count": 9,
   "id": "neutral-unemployment",
   "metadata": {},
   "outputs": [],
   "source": [
    "counts = colinearity_count(train, best_corrs.columns.tolist())"
   ]
  },
  {
   "cell_type": "code",
   "execution_count": 10,
   "id": "dated-surveillance",
   "metadata": {},
   "outputs": [
    {
     "data": {
      "text/plain": [
       "(0.9321633937005478, 24577.652585376145)"
      ]
     },
     "execution_count": 10,
     "metadata": {},
     "output_type": "execute_result"
    }
   ],
   "source": [
    "lasso_cv.score(Z_train,y_train), mean_squared_error(y_test, lasso_pred, squared = False)"
   ]
  },
  {
   "cell_type": "code",
   "execution_count": 11,
   "id": "useful-horror",
   "metadata": {},
   "outputs": [
    {
     "data": {
      "text/plain": [
       "(0.9346830370861068, 25038.74948855554)"
      ]
     },
     "execution_count": 11,
     "metadata": {},
     "output_type": "execute_result"
    }
   ],
   "source": [
    "ridge_cv.score(Z_train2,y_train), mean_squared_error(y_test, ridge_pred, squared = False)"
   ]
  },
  {
   "cell_type": "code",
   "execution_count": 12,
   "id": "adjustable-melissa",
   "metadata": {},
   "outputs": [
    {
     "data": {
      "text/plain": [
       "(0.8611679778139132, 29926.7794449836)"
      ]
     },
     "execution_count": 12,
     "metadata": {},
     "output_type": "execute_result"
    }
   ],
   "source": [
    "quick_lr(best_corrs.columns.tolist())"
   ]
  },
  {
   "cell_type": "code",
   "execution_count": 13,
   "id": "guilty-mailman",
   "metadata": {},
   "outputs": [
    {
     "data": {
      "text/plain": [
       "(0.8317891247574051, 32941.410686420255)"
      ]
     },
     "execution_count": 13,
     "metadata": {},
     "output_type": "execute_result"
    }
   ],
   "source": [
    "quick_lr([key for key, val in counts.items() if val > 3])"
   ]
  },
  {
   "cell_type": "code",
   "execution_count": 14,
   "id": "victorian-franchise",
   "metadata": {},
   "outputs": [
    {
     "data": {
      "text/plain": [
       "(0.6948960767937642, 44364.8537576636)"
      ]
     },
     "execution_count": 14,
     "metadata": {},
     "output_type": "execute_result"
    }
   ],
   "source": [
    "quick_lr([key for key, val in counts.items() if val < 4])"
   ]
  },
  {
   "cell_type": "markdown",
   "id": "cordless-image",
   "metadata": {},
   "source": [
    "***Kaggle submission***"
   ]
  },
  {
   "cell_type": "code",
   "execution_count": 15,
   "id": "illegal-socket",
   "metadata": {},
   "outputs": [],
   "source": [
    "sc = StandardScaler()\n",
    "Z_train = sc.fit_transform(train[x_list])\n",
    "Z_test = sc.transform(test[x_list])\n",
    "r_alphas = np.logspace(0,100,1000)\n",
    "lasso_cv = LassoCV(alphas=r_alphas, random_state=42, cv=5, max_iter = 10000)\n",
    "lasso_cv.fit(Z_train,y)\n",
    "test_ids = test['id']\n",
    "test_preds = lasso_cv.predict(Z_test)"
   ]
  },
  {
   "cell_type": "code",
   "execution_count": 16,
   "id": "institutional-integer",
   "metadata": {
    "ExecuteTime": {
     "end_time": "2021-04-08T20:44:29.152317Z",
     "start_time": "2021-04-08T20:44:29.144338Z"
    }
   },
   "outputs": [],
   "source": [
    "kaggle_submission = {\n",
    "    'Id': test_ids,\n",
    "    'SalePrice': test_preds\n",
    "}\n",
    "\n",
    "kaggle_submission = pd.DataFrame(kaggle_submission)"
   ]
  },
  {
   "cell_type": "code",
   "execution_count": 17,
   "id": "invisible-panel",
   "metadata": {
    "ExecuteTime": {
     "end_time": "2021-04-08T20:44:29.183743Z",
     "start_time": "2021-04-08T20:44:29.161293Z"
    }
   },
   "outputs": [
    {
     "data": {
      "text/html": [
       "<div>\n",
       "<style scoped>\n",
       "    .dataframe tbody tr th:only-of-type {\n",
       "        vertical-align: middle;\n",
       "    }\n",
       "\n",
       "    .dataframe tbody tr th {\n",
       "        vertical-align: top;\n",
       "    }\n",
       "\n",
       "    .dataframe thead th {\n",
       "        text-align: right;\n",
       "    }\n",
       "</style>\n",
       "<table border=\"1\" class=\"dataframe\">\n",
       "  <thead>\n",
       "    <tr style=\"text-align: right;\">\n",
       "      <th></th>\n",
       "      <th>Id</th>\n",
       "      <th>SalePrice</th>\n",
       "    </tr>\n",
       "  </thead>\n",
       "  <tbody>\n",
       "    <tr>\n",
       "      <th>0</th>\n",
       "      <td>2658</td>\n",
       "      <td>135547.345824</td>\n",
       "    </tr>\n",
       "    <tr>\n",
       "      <th>1</th>\n",
       "      <td>2718</td>\n",
       "      <td>154943.062667</td>\n",
       "    </tr>\n",
       "    <tr>\n",
       "      <th>2</th>\n",
       "      <td>2414</td>\n",
       "      <td>230483.684384</td>\n",
       "    </tr>\n",
       "    <tr>\n",
       "      <th>3</th>\n",
       "      <td>1989</td>\n",
       "      <td>112894.736296</td>\n",
       "    </tr>\n",
       "    <tr>\n",
       "      <th>4</th>\n",
       "      <td>625</td>\n",
       "      <td>176565.127608</td>\n",
       "    </tr>\n",
       "  </tbody>\n",
       "</table>\n",
       "</div>"
      ],
      "text/plain": [
       "     Id      SalePrice\n",
       "0  2658  135547.345824\n",
       "1  2718  154943.062667\n",
       "2  2414  230483.684384\n",
       "3  1989  112894.736296\n",
       "4   625  176565.127608"
      ]
     },
     "execution_count": 17,
     "metadata": {},
     "output_type": "execute_result"
    }
   ],
   "source": [
    "kaggle_submission.head(5)"
   ]
  },
  {
   "cell_type": "code",
   "execution_count": 18,
   "id": "worse-measurement",
   "metadata": {},
   "outputs": [],
   "source": [
    "kaggle_submission.to_csv('./datasets/kaggle_submission_lasso-out.csv', index=False)"
   ]
  },
  {
   "cell_type": "markdown",
   "id": "psychological-liechtenstein",
   "metadata": {},
   "source": [
    "***Analysis***"
   ]
  },
  {
   "cell_type": "markdown",
   "id": "decreased-insured",
   "metadata": {},
   "source": [
    "Submissions:\n",
    "   - LASSO no buckets no outliers: 26734.00198\n",
    "   - LASSO no buckets: 29754.67899\n",
    "   - LASSO with outliers: 32135.00957\n",
    "   - LASSO without outliers: 32414.92745 (30734.27885 with better buckets)\n",
    "   - Ridge no buckets: 32813.94436\n",
    "   - Ridge with outliers: 32593.92522\n",
    "   - Ridge without outliers: 33994.54079\n",
    "   - Just best corrs: 34950.18614\n",
    "   - Min colinearity: 51789.76432"
   ]
  }
 ],
 "metadata": {
  "kernelspec": {
   "display_name": "Python 3",
   "language": "python",
   "name": "python3"
  },
  "language_info": {
   "codemirror_mode": {
    "name": "ipython",
    "version": 3
   },
   "file_extension": ".py",
   "mimetype": "text/x-python",
   "name": "python",
   "nbconvert_exporter": "python",
   "pygments_lexer": "ipython3",
   "version": "3.7.6"
  }
 },
 "nbformat": 4,
 "nbformat_minor": 5
}
