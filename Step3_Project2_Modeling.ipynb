{
 "cells": [
  {
   "cell_type": "code",
   "execution_count": 1,
   "id": "solar-first",
   "metadata": {},
   "outputs": [],
   "source": [
    "import pandas as pd\n",
    "import matplotlib.pyplot as plt\n",
    "import seaborn as sns\n",
    "import numpy as np\n",
    "import mathis as mt\n",
    "import math\n",
    "from sklearn.linear_model import LassoCV, RidgeCV, LinearRegression, LogisticRegressionCV\n",
    "from sklearn.preprocessing import StandardScaler\n",
    "from sklearn.model_selection import train_test_split\n",
    "from sklearn.metrics import r2_score, mean_squared_error"
   ]
  },
  {
   "cell_type": "code",
   "execution_count": 2,
   "id": "apart-record",
   "metadata": {},
   "outputs": [],
   "source": [
    "train = pd.read_csv(\"datasets/modified_train.csv\")\n",
    "test = pd.read_csv(\"datasets/modified_test.csv\")\n",
    "\n",
    "train = train.drop(columns = ['Unnamed: 0', 'training'])\n",
    "test = test.drop(columns = ['Unnamed: 0', 'training'])\n",
    "\n",
    "house = train.append(test)"
   ]
  },
  {
   "cell_type": "code",
   "execution_count": 3,
   "id": "seeing-portfolio",
   "metadata": {},
   "outputs": [],
   "source": [
    "def quick_lr(columns):\n",
    "    X = train[columns]\n",
    "    y = train['sale_price']\n",
    "\n",
    "    X_train, X_test, y_train, y_test = train_test_split(X, y, random_state = 42)\n",
    "    lr = LinearRegression()\n",
    "    lr.fit(X_train, y_train)\n",
    "    y_pred = lr.predict(X_test)\n",
    "    return r2_score(y_test, y_pred), mean_squared_error(y_test, y_pred, squared = False)"
   ]
  },
  {
   "cell_type": "code",
   "execution_count": 4,
   "id": "broke-james",
   "metadata": {},
   "outputs": [],
   "source": [
    "def colinearity_count(df, columns, threshold = .5):\n",
    "    corr = df.corr()\n",
    "    counts = {key: 0 for key in columns}\n",
    "    \n",
    "    for row in columns:\n",
    "        for col in columns:\n",
    "            if corr[row][col] > threshold and row != col:\n",
    "                counts[row] += 1\n",
    "                \n",
    "    return counts"
   ]
  },
  {
   "cell_type": "code",
   "execution_count": 5,
   "id": "australian-interval",
   "metadata": {},
   "outputs": [],
   "source": [
    "x_list = house.columns.tolist()\n",
    "x_list.remove('sale_price')\n",
    "X = train[x_list]\n",
    "y = train['sale_price']\n",
    "\n",
    "X_train, X_test, y_train, y_test = train_test_split(X, y, random_state = 42)"
   ]
  },
  {
   "cell_type": "code",
   "execution_count": 6,
   "id": "increasing-novel",
   "metadata": {},
   "outputs": [],
   "source": [
    "sc = StandardScaler()\n",
    "Z_train = sc.fit_transform(X_train)\n",
    "Z_test = sc.transform(X_test)\n",
    "r_alphas = np.logspace(0,5,100)\n",
    "lasso_cv = LassoCV(alphas=r_alphas, random_state=42, cv=5)\n",
    "lasso_cv.fit(Z_train,y_train);\n",
    "lasso_pred = lasso_cv.predict(Z_test)"
   ]
  },
  {
   "cell_type": "code",
   "execution_count": 7,
   "id": "internal-institute",
   "metadata": {},
   "outputs": [],
   "source": [
    "sc = StandardScaler()\n",
    "Z_train2 = sc.fit_transform(X_train)\n",
    "Z_test2 = sc.transform(X_test)\n",
    "r_alphas = np.logspace(0,5,100)\n",
    "ridge_cv = RidgeCV(alphas=r_alphas,scoring=\"neg_mean_squared_error\", cv=5)\n",
    "ridge_cv.fit(Z_train2,y_train);\n",
    "ridge_pred = ridge_cv.predict(Z_test2)"
   ]
  },
  {
   "cell_type": "code",
   "execution_count": 8,
   "id": "southwest-individual",
   "metadata": {},
   "outputs": [],
   "source": [
    "coefs = lasso_cv.coef_\n",
    "lasso_weights = {}\n",
    "cols = train.columns.tolist()\n",
    "for i in range(0, len(coefs)):\n",
    "    lasso_weights[cols[i]] = coefs[i]"
   ]
  },
  {
   "cell_type": "code",
   "execution_count": 9,
   "id": "parliamentary-convention",
   "metadata": {},
   "outputs": [
    {
     "data": {
      "text/html": [
       "<div>\n",
       "<style scoped>\n",
       "    .dataframe tbody tr th:only-of-type {\n",
       "        vertical-align: middle;\n",
       "    }\n",
       "\n",
       "    .dataframe tbody tr th {\n",
       "        vertical-align: top;\n",
       "    }\n",
       "\n",
       "    .dataframe thead th {\n",
       "        text-align: right;\n",
       "    }\n",
       "</style>\n",
       "<table border=\"1\" class=\"dataframe\">\n",
       "  <thead>\n",
       "    <tr style=\"text-align: right;\">\n",
       "      <th></th>\n",
       "      <th>overall_qual</th>\n",
       "      <th>year_built</th>\n",
       "      <th>year_remod/add</th>\n",
       "      <th>mas_vnr_area</th>\n",
       "      <th>exter_qual</th>\n",
       "      <th>bsmt_qual</th>\n",
       "      <th>total_bsmt_sf</th>\n",
       "      <th>1st_flr_sf</th>\n",
       "      <th>gr_liv_area</th>\n",
       "      <th>full_bath</th>\n",
       "      <th>kitchen_qual</th>\n",
       "      <th>tot_rms_abv_grd</th>\n",
       "      <th>fireplace_qu</th>\n",
       "      <th>garage_yr_blt</th>\n",
       "      <th>garage_finish</th>\n",
       "      <th>garage_cars</th>\n",
       "      <th>garage_area</th>\n",
       "      <th>foundation_PConc</th>\n",
       "    </tr>\n",
       "  </thead>\n",
       "  <tbody>\n",
       "    <tr>\n",
       "      <th>0</th>\n",
       "      <td>0.800207</td>\n",
       "      <td>0.571849</td>\n",
       "      <td>0.55037</td>\n",
       "      <td>0.503579</td>\n",
       "      <td>0.712146</td>\n",
       "      <td>0.612188</td>\n",
       "      <td>0.629303</td>\n",
       "      <td>0.618486</td>\n",
       "      <td>0.697038</td>\n",
       "      <td>0.537969</td>\n",
       "      <td>0.692336</td>\n",
       "      <td>0.504014</td>\n",
       "      <td>0.538925</td>\n",
       "      <td>0.556146</td>\n",
       "      <td>0.557839</td>\n",
       "      <td>0.647781</td>\n",
       "      <td>0.649897</td>\n",
       "      <td>0.529047</td>\n",
       "    </tr>\n",
       "  </tbody>\n",
       "</table>\n",
       "</div>"
      ],
      "text/plain": [
       "   overall_qual  year_built  year_remod/add  mas_vnr_area  exter_qual  \\\n",
       "0      0.800207    0.571849         0.55037      0.503579    0.712146   \n",
       "\n",
       "   bsmt_qual  total_bsmt_sf  1st_flr_sf  gr_liv_area  full_bath  kitchen_qual  \\\n",
       "0   0.612188       0.629303    0.618486     0.697038   0.537969      0.692336   \n",
       "\n",
       "   tot_rms_abv_grd  fireplace_qu  garage_yr_blt  garage_finish  garage_cars  \\\n",
       "0         0.504014      0.538925       0.556146       0.557839     0.647781   \n",
       "\n",
       "   garage_area  foundation_PConc  \n",
       "0     0.649897          0.529047  "
      ]
     },
     "execution_count": 9,
     "metadata": {},
     "output_type": "execute_result"
    }
   ],
   "source": [
    "best_corrs = mt.corrs_selection(train, 'sale_price')\n",
    "best_corrs"
   ]
  },
  {
   "cell_type": "code",
   "execution_count": 10,
   "id": "naughty-accordance",
   "metadata": {},
   "outputs": [],
   "source": [
    "counts = colinearity_count(train, best_corrs.columns.tolist())"
   ]
  },
  {
   "cell_type": "code",
   "execution_count": 11,
   "id": "offshore-event",
   "metadata": {},
   "outputs": [
    {
     "data": {
      "text/plain": [
       "(0.8728699378548094, 27039.79598883738)"
      ]
     },
     "execution_count": 11,
     "metadata": {},
     "output_type": "execute_result"
    }
   ],
   "source": [
    "ridge_cv.score(Z_train2,y_train), mean_squared_error(y_test, ridge_pred, squared = False)"
   ]
  },
  {
   "cell_type": "code",
   "execution_count": 12,
   "id": "premier-stone",
   "metadata": {},
   "outputs": [
    {
     "data": {
      "text/plain": [
       "(0.8725758411296889, 26596.73956630602)"
      ]
     },
     "execution_count": 12,
     "metadata": {},
     "output_type": "execute_result"
    }
   ],
   "source": [
    "lasso_cv.score(Z_train,y_train), mean_squared_error(y_test, lasso_pred, squared = False)"
   ]
  },
  {
   "cell_type": "code",
   "execution_count": 13,
   "id": "forbidden-supplement",
   "metadata": {},
   "outputs": [
    {
     "data": {
      "text/plain": [
       "(0.8635942472140041, 28940.19169706193)"
      ]
     },
     "execution_count": 13,
     "metadata": {},
     "output_type": "execute_result"
    }
   ],
   "source": [
    "quick_lr(best_corrs.columns.tolist())"
   ]
  },
  {
   "cell_type": "code",
   "execution_count": 14,
   "id": "single-election",
   "metadata": {},
   "outputs": [
    {
     "data": {
      "text/plain": [
       "(0.8360487767562901, 31727.97764247045)"
      ]
     },
     "execution_count": 14,
     "metadata": {},
     "output_type": "execute_result"
    }
   ],
   "source": [
    "quick_lr([key for key, val in counts.items() if val > 3])"
   ]
  },
  {
   "cell_type": "code",
   "execution_count": 15,
   "id": "framed-portuguese",
   "metadata": {},
   "outputs": [
    {
     "data": {
      "text/plain": [
       "(0.677733691411466, 44482.840562171936)"
      ]
     },
     "execution_count": 15,
     "metadata": {},
     "output_type": "execute_result"
    }
   ],
   "source": [
    "quick_lr([key for key, val in counts.items() if val < 4])"
   ]
  },
  {
   "cell_type": "code",
   "execution_count": 16,
   "id": "collective-desert",
   "metadata": {},
   "outputs": [],
   "source": [
    "sub_list = [key for key, val in counts.items() if val < 4]\n",
    "lr = LinearRegression()\n",
    "lr.fit(train[sub_list], y)\n",
    "test_preds = lr.predict(test[sub_list])"
   ]
  },
  {
   "cell_type": "code",
   "execution_count": 17,
   "id": "favorite-andrews",
   "metadata": {},
   "outputs": [],
   "source": [
    "X_sub = test[x_list]\n",
    "sc = StandardScaler()\n",
    "Z_sub = sc.fit_transform(X_sub)\n",
    "test_ids = test['id']\n",
    "test_preds = ridge_cv.predict(Z_sub)"
   ]
  },
  {
   "cell_type": "code",
   "execution_count": 18,
   "id": "continuing-child",
   "metadata": {
    "ExecuteTime": {
     "end_time": "2021-04-08T20:44:29.152317Z",
     "start_time": "2021-04-08T20:44:29.144338Z"
    }
   },
   "outputs": [],
   "source": [
    "kaggle_submission = {\n",
    "    'Id': test_ids,\n",
    "    'SalePrice': test_preds\n",
    "}\n",
    "\n",
    "kaggle_submission = pd.DataFrame(kaggle_submission)"
   ]
  },
  {
   "cell_type": "code",
   "execution_count": 19,
   "id": "whole-february",
   "metadata": {
    "ExecuteTime": {
     "end_time": "2021-04-08T20:44:29.183743Z",
     "start_time": "2021-04-08T20:44:29.161293Z"
    }
   },
   "outputs": [
    {
     "data": {
      "text/html": [
       "<div>\n",
       "<style scoped>\n",
       "    .dataframe tbody tr th:only-of-type {\n",
       "        vertical-align: middle;\n",
       "    }\n",
       "\n",
       "    .dataframe tbody tr th {\n",
       "        vertical-align: top;\n",
       "    }\n",
       "\n",
       "    .dataframe thead th {\n",
       "        text-align: right;\n",
       "    }\n",
       "</style>\n",
       "<table border=\"1\" class=\"dataframe\">\n",
       "  <thead>\n",
       "    <tr style=\"text-align: right;\">\n",
       "      <th></th>\n",
       "      <th>Id</th>\n",
       "      <th>SalePrice</th>\n",
       "    </tr>\n",
       "  </thead>\n",
       "  <tbody>\n",
       "    <tr>\n",
       "      <th>0</th>\n",
       "      <td>2658</td>\n",
       "      <td>115035.022075</td>\n",
       "    </tr>\n",
       "    <tr>\n",
       "      <th>1</th>\n",
       "      <td>2718</td>\n",
       "      <td>163144.650297</td>\n",
       "    </tr>\n",
       "    <tr>\n",
       "      <th>2</th>\n",
       "      <td>2414</td>\n",
       "      <td>228229.000388</td>\n",
       "    </tr>\n",
       "    <tr>\n",
       "      <th>3</th>\n",
       "      <td>1989</td>\n",
       "      <td>109464.154162</td>\n",
       "    </tr>\n",
       "    <tr>\n",
       "      <th>4</th>\n",
       "      <td>625</td>\n",
       "      <td>192117.620313</td>\n",
       "    </tr>\n",
       "  </tbody>\n",
       "</table>\n",
       "</div>"
      ],
      "text/plain": [
       "     Id      SalePrice\n",
       "0  2658  115035.022075\n",
       "1  2718  163144.650297\n",
       "2  2414  228229.000388\n",
       "3  1989  109464.154162\n",
       "4   625  192117.620313"
      ]
     },
     "execution_count": 19,
     "metadata": {},
     "output_type": "execute_result"
    }
   ],
   "source": [
    "kaggle_submission.head(5)"
   ]
  },
  {
   "cell_type": "code",
   "execution_count": 20,
   "id": "breeding-album",
   "metadata": {},
   "outputs": [],
   "source": [
    "kaggle_submission.to_csv('./datasets/kaggle_submission_ridge-out.csv', index=False)"
   ]
  },
  {
   "cell_type": "markdown",
   "id": "purple-unemployment",
   "metadata": {},
   "source": [
    "Submissions:\n",
    "   - Lasso with outliers: 32135.00957\n",
    "   - LASSO without outliers: 32414.92745\n",
    "   - Ridge with outliers: 32593.92522\n",
    "   - Just best corrs: 34950.18614\n",
    "   - Min colinearity: 51789.76432"
   ]
  },
  {
   "cell_type": "code",
   "execution_count": null,
   "id": "growing-watts",
   "metadata": {},
   "outputs": [],
   "source": []
  }
 ],
 "metadata": {
  "kernelspec": {
   "display_name": "Python 3",
   "language": "python",
   "name": "python3"
  },
  "language_info": {
   "codemirror_mode": {
    "name": "ipython",
    "version": 3
   },
   "file_extension": ".py",
   "mimetype": "text/x-python",
   "name": "python",
   "nbconvert_exporter": "python",
   "pygments_lexer": "ipython3",
   "version": "3.7.6"
  }
 },
 "nbformat": 4,
 "nbformat_minor": 5
}
