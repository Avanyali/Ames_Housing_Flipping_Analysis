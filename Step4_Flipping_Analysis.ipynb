{
 "cells": [
  {
   "cell_type": "code",
   "execution_count": 1,
   "id": "recognized-transport",
   "metadata": {},
   "outputs": [],
   "source": [
    "import pandas as pd\n",
    "import matplotlib.pyplot as plt\n",
    "import seaborn as sns\n",
    "import numpy as np\n",
    "import mathis as mt\n",
    "import math\n",
    "from sklearn.linear_model import LassoCV, RidgeCV, LinearRegression, LogisticRegressionCV\n",
    "from sklearn.preprocessing import StandardScaler\n",
    "from sklearn.model_selection import train_test_split\n",
    "from sklearn.metrics import r2_score, mean_squared_error"
   ]
  },
  {
   "cell_type": "code",
   "execution_count": 2,
   "id": "impossible-desire",
   "metadata": {},
   "outputs": [],
   "source": [
    "train = pd.read_csv(\"datasets/modified_train.csv\")\n",
    "test = pd.read_csv(\"datasets/modified_test.csv\")\n",
    "\n",
    "train = train.drop(columns = ['Unnamed: 0', 'training'])\n",
    "test = test.drop(columns = ['Unnamed: 0', 'training'])\n",
    "\n",
    "house = train.append(test)"
   ]
  },
  {
   "cell_type": "markdown",
   "id": "optical-groove",
   "metadata": {},
   "source": [
    "# Problem Statement:\n",
    "We are a Data Scientist working for a company that buys housing with the intent of making cost-effective improvements and flipping them back onto the market. Our goal is to find the most effective features for this process in the context of the Ames, Iowa housing market."
   ]
  },
  {
   "cell_type": "markdown",
   "id": "champion-sympathy",
   "metadata": {},
   "source": [
    "# Analysis"
   ]
  },
  {
   "cell_type": "markdown",
   "id": "angry-theology",
   "metadata": {},
   "source": [
    "***Lasso to remove less relevant columns***"
   ]
  },
  {
   "cell_type": "code",
   "execution_count": 3,
   "id": "qualified-finnish",
   "metadata": {},
   "outputs": [],
   "source": [
    "x_list = house.columns.tolist()\n",
    "x_list.remove('sale_price')\n",
    "X = train[x_list]\n",
    "y = train['sale_price']"
   ]
  },
  {
   "cell_type": "code",
   "execution_count": 4,
   "id": "returning-monthly",
   "metadata": {},
   "outputs": [],
   "source": [
    "sc = StandardScaler()\n",
    "Z_train = sc.fit_transform(train[x_list])\n",
    "Z_test = sc.transform(test[x_list])\n",
    "r_alphas = np.logspace(0,100,1000)\n",
    "\n",
    "\n",
    "lasso_cv = LassoCV(alphas=r_alphas, random_state=42, cv=5, max_iter = 10000)\n",
    "lasso_cv.fit(Z_train,y);"
   ]
  },
  {
   "cell_type": "code",
   "execution_count": 5,
   "id": "bigger-central",
   "metadata": {},
   "outputs": [],
   "source": [
    "coefs = lasso_cv.coef_\n",
    "lasso_weights = {}\n",
    "cols = x_list\n",
    "for i in range(0, len(coefs)):\n",
    "    lasso_weights[cols[i]] = coefs[i]"
   ]
  },
  {
   "cell_type": "markdown",
   "id": "cloudy-fitness",
   "metadata": {},
   "source": [
    "- We will use these LASSO coefficients in our analysis to determine which remodeling opportunities are predicted to be significant."
   ]
  },
  {
   "cell_type": "code",
   "execution_count": 6,
   "id": "finished-server",
   "metadata": {},
   "outputs": [],
   "source": [
    "lasso_weights = {key: val for key, val in lasso_weights.items() if val != 0}"
   ]
  },
  {
   "cell_type": "markdown",
   "id": "integrated-blackberry",
   "metadata": {},
   "source": [
    "***Linear model on remaining columns***"
   ]
  },
  {
   "cell_type": "code",
   "execution_count": 7,
   "id": "published-absorption",
   "metadata": {
    "tags": []
   },
   "outputs": [],
   "source": [
    "lr = LinearRegression()\n",
    "lr.fit(train[list(lasso_weights.keys())], train['sale_price']);"
   ]
  },
  {
   "cell_type": "markdown",
   "id": "healthy-compromise",
   "metadata": {},
   "source": [
    "- This linear model performs with an RMSE of 28405.96638 when tested (on Kaggle), which is almost as good as the LASSO it is modeled after. Our goal is to use its coefficients for inference."
   ]
  },
  {
   "cell_type": "code",
   "execution_count": 8,
   "id": "bright-tractor",
   "metadata": {},
   "outputs": [],
   "source": [
    "weights_coefs = pd.DataFrame({'weights': lasso_weights.values(), 'Dollars': lr.coef_}, index = lasso_weights.keys())"
   ]
  },
  {
   "cell_type": "markdown",
   "id": "critical-narrative",
   "metadata": {},
   "source": [
    "***Dataframe containing weights and linear coefficients***"
   ]
  },
  {
   "cell_type": "code",
   "execution_count": 9,
   "id": "arctic-maximum",
   "metadata": {},
   "outputs": [],
   "source": [
    "weights_coefs.sort_values(by = 'weights', inplace = True)"
   ]
  },
  {
   "cell_type": "code",
   "execution_count": 10,
   "id": "municipal-calculator",
   "metadata": {},
   "outputs": [],
   "source": [
    "max_weight = weights_coefs.iloc[-1]['weights']\n",
    "weights_coefs['weights'] = weights_coefs['weights'].map(lambda x: abs(x/max_weight))"
   ]
  },
  {
   "cell_type": "markdown",
   "id": "hidden-edwards",
   "metadata": {},
   "source": [
    "- Converting assigned LASSO importance values to a percentage."
   ]
  },
  {
   "cell_type": "code",
   "execution_count": 11,
   "id": "neural-honor",
   "metadata": {},
   "outputs": [],
   "source": [
    "weights_coefs['importance'] = abs(weights_coefs['weights'] * weights_coefs['Dollars'])"
   ]
  },
  {
   "cell_type": "code",
   "execution_count": 12,
   "id": "british-logistics",
   "metadata": {},
   "outputs": [],
   "source": [
    "weights_coefs.sort_values(by = 'importance', inplace = True, ascending = False)"
   ]
  },
  {
   "cell_type": "markdown",
   "id": "racial-income",
   "metadata": {},
   "source": [
    "- Creating an importance column based on the amount of dollars gained by changing a variable times the LASSO importance percentage."
   ]
  },
  {
   "cell_type": "code",
   "execution_count": 13,
   "id": "institutional-assault",
   "metadata": {},
   "outputs": [],
   "source": [
    "neighborhoods = [key for key in lasso_weights.keys() if key.split(\"_\")[0] == 'neighborhood']"
   ]
  },
  {
   "cell_type": "code",
   "execution_count": 14,
   "id": "industrial-reputation",
   "metadata": {},
   "outputs": [],
   "source": [
    "weights_coefs = weights_coefs.drop(neighborhoods)"
   ]
  },
  {
   "cell_type": "markdown",
   "id": "greenhouse-rouge",
   "metadata": {},
   "source": [
    "- Removing neighborhoods from our selection. Our targets are values that can be changed during remodeling, and neighborhoods cannot be."
   ]
  },
  {
   "cell_type": "code",
   "execution_count": 15,
   "id": "reduced-performance",
   "metadata": {},
   "outputs": [
    {
     "data": {
      "text/html": [
       "<div>\n",
       "<style scoped>\n",
       "    .dataframe tbody tr th:only-of-type {\n",
       "        vertical-align: middle;\n",
       "    }\n",
       "\n",
       "    .dataframe tbody tr th {\n",
       "        vertical-align: top;\n",
       "    }\n",
       "\n",
       "    .dataframe thead th {\n",
       "        text-align: right;\n",
       "    }\n",
       "</style>\n",
       "<table border=\"1\" class=\"dataframe\">\n",
       "  <thead>\n",
       "    <tr style=\"text-align: right;\">\n",
       "      <th></th>\n",
       "      <th>overall_qual</th>\n",
       "      <th>sale_type_New</th>\n",
       "      <th>bldg_type_TwnhsE</th>\n",
       "      <th>condition_2_PosA</th>\n",
       "      <th>exterior_1st_BrkFace</th>\n",
       "      <th>utilities_NoSeWa</th>\n",
       "      <th>bldg_type_Twnhs</th>\n",
       "      <th>heating_OthW</th>\n",
       "      <th>roof_matl_WdShngl</th>\n",
       "    </tr>\n",
       "  </thead>\n",
       "  <tbody>\n",
       "    <tr>\n",
       "      <th>Dollars</th>\n",
       "      <td>8755.066895</td>\n",
       "      <td>15789.743581</td>\n",
       "      <td>-15277.046132</td>\n",
       "      <td>42448.35048</td>\n",
       "      <td>20096.558592</td>\n",
       "      <td>-57672.945346</td>\n",
       "      <td>-17864.883349</td>\n",
       "      <td>-43863.852252</td>\n",
       "      <td>35796.9645</td>\n",
       "    </tr>\n",
       "  </tbody>\n",
       "</table>\n",
       "</div>"
      ],
      "text/plain": [
       "         overall_qual  sale_type_New  bldg_type_TwnhsE  condition_2_PosA  \\\n",
       "Dollars   8755.066895   15789.743581     -15277.046132       42448.35048   \n",
       "\n",
       "         exterior_1st_BrkFace  utilities_NoSeWa  bldg_type_Twnhs  \\\n",
       "Dollars          20096.558592     -57672.945346    -17864.883349   \n",
       "\n",
       "         heating_OthW  roof_matl_WdShngl  \n",
       "Dollars -43863.852252         35796.9645  "
      ]
     },
     "execution_count": 15,
     "metadata": {},
     "output_type": "execute_result"
    }
   ],
   "source": [
    "pd.DataFrame(weights_coefs['Dollars'][:9]).T"
   ]
  },
  {
   "cell_type": "code",
   "execution_count": 16,
   "id": "loose-mystery",
   "metadata": {},
   "outputs": [
    {
     "data": {
      "text/html": [
       "<div>\n",
       "<style scoped>\n",
       "    .dataframe tbody tr th:only-of-type {\n",
       "        vertical-align: middle;\n",
       "    }\n",
       "\n",
       "    .dataframe tbody tr th {\n",
       "        vertical-align: top;\n",
       "    }\n",
       "\n",
       "    .dataframe thead th {\n",
       "        text-align: right;\n",
       "    }\n",
       "</style>\n",
       "<table border=\"1\" class=\"dataframe\">\n",
       "  <thead>\n",
       "    <tr style=\"text-align: right;\">\n",
       "      <th></th>\n",
       "      <th>exter_qual</th>\n",
       "      <th>kitchen_qual</th>\n",
       "      <th>condition_2_PosN</th>\n",
       "      <th>sale_type_Con</th>\n",
       "      <th>kitchen_abv_gr</th>\n",
       "      <th>functional</th>\n",
       "      <th>mas_vnr_type_BrkFace</th>\n",
       "      <th>ms_sub_class_150</th>\n",
       "      <th>overall_cond</th>\n",
       "    </tr>\n",
       "  </thead>\n",
       "  <tbody>\n",
       "    <tr>\n",
       "      <th>Dollars</th>\n",
       "      <td>6698.824165</td>\n",
       "      <td>6588.8478</td>\n",
       "      <td>35067.926568</td>\n",
       "      <td>29189.924238</td>\n",
       "      <td>-12139.47001</td>\n",
       "      <td>6336.268936</td>\n",
       "      <td>-7704.743725</td>\n",
       "      <td>-40675.329513</td>\n",
       "      <td>4729.778943</td>\n",
       "    </tr>\n",
       "  </tbody>\n",
       "</table>\n",
       "</div>"
      ],
      "text/plain": [
       "          exter_qual  kitchen_qual  condition_2_PosN  sale_type_Con  \\\n",
       "Dollars  6698.824165     6588.8478      35067.926568   29189.924238   \n",
       "\n",
       "         kitchen_abv_gr   functional  mas_vnr_type_BrkFace  ms_sub_class_150  \\\n",
       "Dollars    -12139.47001  6336.268936          -7704.743725     -40675.329513   \n",
       "\n",
       "         overall_cond  \n",
       "Dollars   4729.778943  "
      ]
     },
     "execution_count": 16,
     "metadata": {},
     "output_type": "execute_result"
    }
   ],
   "source": [
    "pd.DataFrame(weights_coefs['Dollars'][9:18]).T"
   ]
  },
  {
   "cell_type": "code",
   "execution_count": 17,
   "id": "unsigned-range",
   "metadata": {},
   "outputs": [
    {
     "data": {
      "text/html": [
       "<div>\n",
       "<style scoped>\n",
       "    .dataframe tbody tr th:only-of-type {\n",
       "        vertical-align: middle;\n",
       "    }\n",
       "\n",
       "    .dataframe tbody tr th {\n",
       "        vertical-align: top;\n",
       "    }\n",
       "\n",
       "    .dataframe thead th {\n",
       "        text-align: right;\n",
       "    }\n",
       "</style>\n",
       "<table border=\"1\" class=\"dataframe\">\n",
       "  <thead>\n",
       "    <tr style=\"text-align: right;\">\n",
       "      <th></th>\n",
       "      <th>land_contour_HLS</th>\n",
       "      <th>garage_type_nan</th>\n",
       "      <th>condition_1_PosN</th>\n",
       "      <th>condition_1_Norm</th>\n",
       "      <th>condition_1_PosA</th>\n",
       "      <th>exterior_2nd_CmentBd</th>\n",
       "      <th>bedroom_abv_gr</th>\n",
       "    </tr>\n",
       "  </thead>\n",
       "  <tbody>\n",
       "    <tr>\n",
       "      <th>Dollars</th>\n",
       "      <td>10091.51349</td>\n",
       "      <td>11407.646784</td>\n",
       "      <td>13804.731467</td>\n",
       "      <td>7426.445058</td>\n",
       "      <td>15233.261947</td>\n",
       "      <td>8233.305076</td>\n",
       "      <td>-4447.591327</td>\n",
       "    </tr>\n",
       "  </tbody>\n",
       "</table>\n",
       "</div>"
      ],
      "text/plain": [
       "         land_contour_HLS  garage_type_nan  condition_1_PosN  \\\n",
       "Dollars       10091.51349     11407.646784      13804.731467   \n",
       "\n",
       "         condition_1_Norm  condition_1_PosA  exterior_2nd_CmentBd  \\\n",
       "Dollars       7426.445058      15233.261947           8233.305076   \n",
       "\n",
       "         bedroom_abv_gr  \n",
       "Dollars    -4447.591327  "
      ]
     },
     "execution_count": 17,
     "metadata": {},
     "output_type": "execute_result"
    }
   ],
   "source": [
    "pd.DataFrame(weights_coefs['Dollars'][18:25]).T"
   ]
  },
  {
   "cell_type": "code",
   "execution_count": 18,
   "id": "swedish-trade",
   "metadata": {},
   "outputs": [],
   "source": [
    "vis = pd.DataFrame(weights_coefs['Dollars'])\n",
    "vis['Dollars'] = vis['Dollars'].map(abs)"
   ]
  },
  {
   "cell_type": "code",
   "execution_count": 19,
   "id": "personalized-southeast",
   "metadata": {},
   "outputs": [
    {
     "data": {
      "image/png": "[encoded data removed]",
      "text/plain": [
       "<Figure size 432x288 with 2 Axes>"
      ]
     },
     "metadata": {
      "needs_background": "light"
     },
     "output_type": "display_data"
    }
   ],
   "source": [
    "a = sns.heatmap(vis[:10], cmap = 'coolwarm', vmin = 0, vmax = 60000, annot = True, fmt = 'g')\n",
    "plt.title('USD gained by modifying house feature')\n",
    "plt.show()"
   ]
  },
  {
   "cell_type": "markdown",
   "id": "progressive-luxury",
   "metadata": {},
   "source": [
    "- Columns that cannot be improved: \n",
    "  - ***Sale type***: we cannot change how a house was previously sold.\n",
    "  - ***Adjacent or near to positive off-site feature***: we cannot built parks near homes.\n",
    "  - ***Land contour***: changing the contour of the land is not within company scope."
   ]
  },
  {
   "cell_type": "markdown",
   "id": "alternative-legislation",
   "metadata": {},
   "source": [
    "- Columns that are difficult to improve:\n",
    "   - ***Brick exterior***: prohibitively expensive to convert walls to brick. \\$20096.56 c.p. \n",
    "   - ***Adding water utilities***: expensive and requires contacting public utilities, but possible. \\$57672.95 c.p.\n",
    "   - ***Purchasing an entire Planned Unit Development and coverting to condominium***: significant red tape. \\$40675.33 per housing unit converted c.p."
   ]
  },
  {
   "cell_type": "markdown",
   "id": "attempted-madrid",
   "metadata": {},
   "source": [
    "- Columns that can be improved:\n",
    "   - ***Increase overall quality***: Increases with other improvements on this list. \\$8755.07 per level ceteris paribus (c.p.)\n",
    "   - ***Increase overall condition***: \\$4729.78 per level c.p. -\\\\$4000 for house painting.\n",
    "   - ***Convert from Townhouse end unit***: Recommended in cases with low red tape. \\$15277.05 c.p.\n",
    "   - ***Convert from Townhouse***: Recommended in cases with low red tape. \\$17864.88 c.p.\n",
    "   - ***Adding gas heating***: as long as there are nearby lines, effective cost efficiency. \\$43863.85 c.p. Roughly -\\\\$6000 for a heater.\n",
    "   - ***Changing roof tiles to wood shingles***: should recoup cost. \\$35796.97 c.p. Up to -\\\\$8500 for installation.\n",
    "   - ***Quality of exterior materials***: likely involves expensive restructuring. \\$6698.82 per level increase c.p.\n",
    "   - ***Kitchen quality***: depending on cost of remodeling, may be effective. \\$6588.85 per level c.p. -\\\\$2500 for a stove improvement.\n",
    "   - ***Kitchens above grade (ground)***: removing extraneous kitchens is a cost-effective method of value gain. $12139.47 c.p., labor cost varies significantly but stays below expected gains.\n",
    "   - ***Remove brick veneer***: with cost of house painting services, may gain value. \\$7704.74\n",
    "   - ***Remove garage***: not cost effective. \\$11407.65 gain c.p., labor cost of -\\\\$14000\n",
    "   - ***Cement board exterior***: does not require structural work. \\$8233.31 c.p. -\\\\$6500 for installation."
   ]
  },
  {
   "cell_type": "code",
   "execution_count": 20,
   "id": "civilian-sperm",
   "metadata": {},
   "outputs": [],
   "source": [
    "cost_profit = pd.DataFrame(weights_coefs['Dollars'][:25])\n",
    "cost_profit['Dollars'] = cost_profit['Dollars'].map(abs)"
   ]
  },
  {
   "cell_type": "code",
   "execution_count": 21,
   "id": "acting-sector",
   "metadata": {},
   "outputs": [],
   "source": [
    "indices = ['bldg_type_TwnhsE', 'bldg_type_Twnhs', 'heating_OthW', 'roof_matl_WdShngl', 'kitchen_qual', 'kitchen_abv_gr', 'overall_cond', 'garage_type_nan', 'exterior_2nd_CmentBd']\n",
    "cost_profit = cost_profit.to_dict()"
   ]
  },
  {
   "cell_type": "code",
   "execution_count": 22,
   "id": "casual-connecticut",
   "metadata": {},
   "outputs": [],
   "source": [
    "cost_profit = {'Dollars': {col: val for col, val in cost_profit['Dollars'].items() if col in indices}}"
   ]
  },
  {
   "cell_type": "code",
   "execution_count": 25,
   "id": "senior-galaxy",
   "metadata": {},
   "outputs": [],
   "source": [
    "costs = [0, 0, 6000, 8500, 2500, 8000, 4000, 14000, 6500]\n",
    "costs_dict = {}\n",
    "for i in range(0, len(indices)):\n",
    "    costs_dict[indices[i]] = costs[i]"
   ]
  },
  {
   "cell_type": "code",
   "execution_count": 27,
   "id": "british-blink",
   "metadata": {},
   "outputs": [],
   "source": [
    "cost_profit['Costs'] = costs_dict"
   ]
  },
  {
   "cell_type": "code",
   "execution_count": 32,
   "id": "fresh-kruger",
   "metadata": {},
   "outputs": [],
   "source": [
    "cost_profit = pd.DataFrame(cost_profit)\n",
    "cost_profit['Costs'] = cost_profit['Costs'].map(lambda x: -1*x)"
   ]
  },
  {
   "cell_type": "code",
   "execution_count": 51,
   "id": "wrong-greensboro",
   "metadata": {},
   "outputs": [
    {
     "data": {
      "image/png": "[encoded data removed]",
      "text/plain": [
       "<Figure size 720x360 with 2 Axes>"
      ]
     },
     "metadata": {},
     "output_type": "display_data"
    }
   ],
   "source": [
    "#credit to: https://sharkcoder.com/data-visualization/mpl-bidirectional\n",
    "font_color = '#525252'\n",
    "hfont = {'fontname':'Calibri'}\n",
    "facecolor = '#eaeaf2'\n",
    "color_red = '#fd625e'\n",
    "color_blue = '#01b8aa'\n",
    "index = cost_profit.index\n",
    "column0 = cost_profit['Dollars']\n",
    "column1 = cost_profit['Costs']\n",
    "title0 = 'Expected house value increase (USD)'\n",
    "title1 = 'Approximated costs (USD)'\n",
    "fig, axes = plt.subplots(figsize=(10,5), facecolor=facecolor, ncols=2, sharey=True)\n",
    "fig.tight_layout()\n",
    "axes[0].barh(index, column0, align='center', color=color_blue, zorder=10)\n",
    "axes[0].set_xlim([45000, 0])\n",
    "axes[0].set_title(title0, fontsize=18, pad=15, color=color_blue, **hfont)\n",
    "axes[1].barh(index, column1, align='center', color=color_red, zorder=10)\n",
    "axes[1].set_xlim([0, -45000])\n",
    "axes[1].set_title(title1, fontsize=18, pad=15, color=color_red, **hfont)\n",
    "plt.show()"
   ]
  },
  {
   "cell_type": "markdown",
   "id": "legitimate-ceramic",
   "metadata": {},
   "source": [
    "- This chart represents the most viable selected features, in order from least to most model importance (top to bottom) with their associated predicted gains and approximate costs."
   ]
  },
  {
   "cell_type": "code",
   "execution_count": 48,
   "id": "fabulous-novel",
   "metadata": {},
   "outputs": [
    {
     "data": {
      "text/plain": [
       "weights        0.050403\n",
       "Dollars       49.890287\n",
       "importance     2.514597\n",
       "Name: year_remod/add, dtype: float64"
      ]
     },
     "execution_count": 48,
     "metadata": {},
     "output_type": "execute_result"
    }
   ],
   "source": [
    "weights_coefs.loc['year_remod/add']"
   ]
  },
  {
   "cell_type": "markdown",
   "id": "ambient-hardwood",
   "metadata": {},
   "source": [
    "- A factor that would be relevant in all remodeling, the year a remodel occurred is not predicted by the model to be significant or cost-effective."
   ]
  },
  {
   "cell_type": "code",
   "execution_count": 49,
   "id": "removable-printer",
   "metadata": {},
   "outputs": [
    {
     "data": {
      "text/plain": [
       "{'overall_qual': ['exter_qual', 'kitchen_qual'],\n",
       " 'exter_qual': ['overall_qual', 'kitchen_qual'],\n",
       " 'kitchen_qual': ['overall_qual', 'exter_qual']}"
      ]
     },
     "execution_count": 49,
     "metadata": {},
     "output_type": "execute_result"
    }
   ],
   "source": [
    "mt.colinearity_pairs(train, weights_coefs[:25].index.tolist())"
   ]
  },
  {
   "cell_type": "markdown",
   "id": "historic-mattress",
   "metadata": {},
   "source": [
    "- Only notable colinearity here is overall quality, which we already understood to be all-encompassing."
   ]
  },
  {
   "cell_type": "code",
   "execution_count": 58,
   "id": "technical-study",
   "metadata": {},
   "outputs": [
    {
     "data": {
      "text/plain": [
       "{'overall_qual': 11,\n",
       " 'exter_qual': 10,\n",
       " 'kitchen_qual': 7,\n",
       " 'garage_cars': 5,\n",
       " 'bsmt_qual': 8,\n",
       " 'year_built': 8,\n",
       " 'foundation_PConc': 7,\n",
       " 'gr_liv_area': 4,\n",
       " 'garage_finish': 5,\n",
       " 'heating_qc': 4,\n",
       " 'year_remod/add': 7,\n",
       " 'garage_area': 4}"
      ]
     },
     "execution_count": 58,
     "metadata": {},
     "output_type": "execute_result"
    }
   ],
   "source": [
    "{key: val for key, val in mt.colinearity_count(train, weights_coefs.index.tolist()).items() if val > 3}"
   ]
  },
  {
   "cell_type": "markdown",
   "id": "flexible-productivity",
   "metadata": {},
   "source": [
    "# Recommendations:"
   ]
  },
  {
   "cell_type": "markdown",
   "id": "scenic-commissioner",
   "metadata": {},
   "source": [
    "Several features have been identified as having potential for cost-effective remodeling:\n",
    " - Adding cement board paneling\n",
    " - Converting garages and kitchens to living space\n",
    " - Painting the exterior\n",
    " - Replacing roof with wooden shingles\n",
    " - Purchasing better equipment for kitchens\n",
    " - Adding a gas heating system\n",
    " - Converting Townhouses to Condominiums\n",
    "    \n",
    "Early modeling suggests that these will turn profit for the company, but additional research is required. The accuracy of the model is bounded by its RMSE of 28405.96638, meaning that every feature which showed calculated gain could be entirely nullified by the error, with the exception of adding a gas heater.\n",
    "\n",
    "Additionally, the model violates line assumptions, having some multicolinearity between variables (though less than expected), and multiple values do not show a strictly linear trend. The model is also built on the principle of all-else-equal, meaning improving more than one housing feature at a time restricts the model's usefulness.\n",
    "\n",
    "With this in mind, we recommend taking the features identified as suggestions for future research and experimentation for the company as a whole."
   ]
  }
 ],
 "metadata": {
  "kernelspec": {
   "display_name": "Python 3",
   "language": "python",
   "name": "python3"
  },
  "language_info": {
   "codemirror_mode": {
    "name": "ipython",
    "version": 3
   },
   "file_extension": ".py",
   "mimetype": "text/x-python",
   "name": "python",
   "nbconvert_exporter": "python",
   "pygments_lexer": "ipython3",
   "version": "3.7.6"
  }
 },
 "nbformat": 4,
 "nbformat_minor": 5
}
