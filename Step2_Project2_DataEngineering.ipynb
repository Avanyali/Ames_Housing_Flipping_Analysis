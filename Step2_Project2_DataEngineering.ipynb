{
 "cells": [
  {
   "cell_type": "code",
   "execution_count": 1,
   "id": "turned-adelaide",
   "metadata": {},
   "outputs": [],
   "source": [
    "import pandas as pd\n",
    "import matplotlib.pyplot as plt\n",
    "import seaborn as sns\n",
    "import numpy as np\n",
    "import mathis as mt\n",
    "import math\n",
    "from sklearn.linear_model import LassoCV, RidgeCV, LinearRegression, LogisticRegressionCV\n",
    "from sklearn.preprocessing import StandardScaler\n",
    "from sklearn.model_selection import train_test_split\n",
    "from sklearn.metrics import r2_score"
   ]
  },
  {
   "cell_type": "code",
   "execution_count": 2,
   "id": "therapeutic-crowd",
   "metadata": {},
   "outputs": [],
   "source": [
    "train = pd.read_csv(\"datasets/modified_train.csv\")\n",
    "test = pd.read_csv(\"datasets/modified_test.csv\")\n",
    "\n",
    "train = train.drop(columns = ['Unnamed: 0'])\n",
    "test = test.drop(columns = ['Unnamed: 0'])\n",
    "\n",
    "house = train.append(test)"
   ]
  },
  {
   "cell_type": "markdown",
   "id": "korean-publicity",
   "metadata": {},
   "source": [
    "# Data Engineering"
   ]
  },
  {
   "cell_type": "markdown",
   "id": "disabled-situation",
   "metadata": {},
   "source": [
    "***Ordinals to numbers***"
   ]
  },
  {
   "cell_type": "code",
   "execution_count": 3,
   "id": "liberal-order",
   "metadata": {},
   "outputs": [],
   "source": [
    "ord_dict = {'ex': 5, 'gd': 4, 'ta':3, 'fa':2, 'po':1, 'nan': 0}\n",
    "ord_cats = ['exter_qual', 'exter_cond', 'bsmt_qual', 'bsmt_cond', 'heating_qc', 'kitchen_qual', 'fireplace_qu', 'garage_qual', 'garage_cond', 'pool_qc']\n",
    "\n",
    "for col in ord_cats:\n",
    "    house[col] = house[col].map(lambda x: ord_dict[str(x).lower()])"
   ]
  },
  {
   "cell_type": "code",
   "execution_count": 4,
   "id": "exciting-trust",
   "metadata": {},
   "outputs": [],
   "source": [
    "ord_dict = {'gd':4, 'av':3, 'mn':2, 'no':1, 'nan':0, '0':0}\n",
    "house['bsmt_exposure'] = house['bsmt_exposure'].map(lambda x: ord_dict[str(x).lower()])"
   ]
  },
  {
   "cell_type": "code",
   "execution_count": 5,
   "id": "interior-mainland",
   "metadata": {},
   "outputs": [],
   "source": [
    "ord_dict = {'fin':3, 'rfn':2, 'unf':1, 'nan':0}\n",
    "house['garage_finish'] = house['garage_finish'].map(lambda x: ord_dict[str(x).lower()])"
   ]
  },
  {
   "cell_type": "code",
   "execution_count": 6,
   "id": "alone-hometown",
   "metadata": {},
   "outputs": [],
   "source": [
    "ord_dict = {'glq':6, 'alq':5, 'blq':4, 'rec':3, 'lwq':2, 'unf':1, 'nan':0}\n",
    "house['bsmt_fin_type_1'] = house['bsmt_fin_type_1'].map(lambda x: ord_dict[str(x).lower()])\n",
    "house['bsmt_fin_type_2'] = house['bsmt_fin_type_2'].map(lambda x: ord_dict[str(x).lower()])"
   ]
  },
  {
   "cell_type": "code",
   "execution_count": 7,
   "id": "functional-worship",
   "metadata": {},
   "outputs": [],
   "source": [
    "ord_dict = {'typ':7, 'min1':6, 'min2':5, 'mod':4, 'maj1':3, 'maj2':2, 'sev':1, 'sal':0}\n",
    "house['functional'] = house['functional'].map(lambda x: ord_dict[str(x).lower()])"
   ]
  },
  {
   "cell_type": "markdown",
   "id": "damaged-forward",
   "metadata": {},
   "source": [
    "- Second pairplot created at this step"
   ]
  },
  {
   "cell_type": "markdown",
   "id": "transparent-momentum",
   "metadata": {
    "tags": []
   },
   "source": [
    "***Determine features to bucket together***"
   ]
  },
  {
   "cell_type": "code",
   "execution_count": 8,
   "id": "massive-tuesday",
   "metadata": {},
   "outputs": [],
   "source": [
    "candidates = mt.feature_bucket_candidates(house[house['training'] == 1])\n",
    "buckets = mt.greedy_bucket_selection(candidates)"
   ]
  },
  {
   "cell_type": "code",
   "execution_count": 9,
   "id": "functional-breast",
   "metadata": {},
   "outputs": [
    {
     "data": {
      "text/html": [
       "<div>\n",
       "<style scoped>\n",
       "    .dataframe tbody tr th:only-of-type {\n",
       "        vertical-align: middle;\n",
       "    }\n",
       "\n",
       "    .dataframe tbody tr th {\n",
       "        vertical-align: top;\n",
       "    }\n",
       "\n",
       "    .dataframe thead th {\n",
       "        text-align: right;\n",
       "    }\n",
       "</style>\n",
       "<table border=\"1\" class=\"dataframe\">\n",
       "  <thead>\n",
       "    <tr style=\"text-align: right;\">\n",
       "      <th></th>\n",
       "      <th>overall_qual</th>\n",
       "      <th>year_built</th>\n",
       "      <th>year_remod/add</th>\n",
       "      <th>mas_vnr_area</th>\n",
       "      <th>total_bsmt_sf</th>\n",
       "      <th>1st_flr_sf</th>\n",
       "      <th>gr_liv_area</th>\n",
       "      <th>full_bath</th>\n",
       "      <th>tot_rms_abv_grd</th>\n",
       "      <th>garage_yr_blt</th>\n",
       "      <th>garage_cars</th>\n",
       "      <th>garage_area</th>\n",
       "      <th>foundation_PConc</th>\n",
       "    </tr>\n",
       "  </thead>\n",
       "  <tbody>\n",
       "    <tr>\n",
       "      <th>0</th>\n",
       "      <td>0.800207</td>\n",
       "      <td>0.571849</td>\n",
       "      <td>0.55037</td>\n",
       "      <td>0.503579</td>\n",
       "      <td>0.629303</td>\n",
       "      <td>0.618486</td>\n",
       "      <td>0.697038</td>\n",
       "      <td>0.537969</td>\n",
       "      <td>0.504014</td>\n",
       "      <td>0.556146</td>\n",
       "      <td>0.647781</td>\n",
       "      <td>0.649897</td>\n",
       "      <td>0.529047</td>\n",
       "    </tr>\n",
       "  </tbody>\n",
       "</table>\n",
       "</div>"
      ],
      "text/plain": [
       "   overall_qual  year_built  year_remod/add  mas_vnr_area  total_bsmt_sf  \\\n",
       "0      0.800207    0.571849         0.55037      0.503579       0.629303   \n",
       "\n",
       "   1st_flr_sf  gr_liv_area  full_bath  tot_rms_abv_grd  garage_yr_blt  \\\n",
       "0    0.618486     0.697038   0.537969         0.504014       0.556146   \n",
       "\n",
       "   garage_cars  garage_area  foundation_PConc  \n",
       "0     0.647781     0.649897          0.529047  "
      ]
     },
     "execution_count": 9,
     "metadata": {},
     "output_type": "execute_result"
    }
   ],
   "source": [
    "all_dummies = pd.get_dummies(train, columns = buckets.keys(), drop_first = True, dummy_na = True)\n",
    "mt.corrs_selection(all_dummies, 'sale_price')"
   ]
  },
  {
   "cell_type": "code",
   "execution_count": 10,
   "id": "indonesian-anderson",
   "metadata": {},
   "outputs": [],
   "source": [
    "house = mt.map_buckets(house, buckets)"
   ]
  },
  {
   "cell_type": "markdown",
   "id": "loaded-money",
   "metadata": {},
   "source": [
    "***Dummy categoricals***"
   ]
  },
  {
   "cell_type": "code",
   "execution_count": 11,
   "id": "unnecessary-equilibrium",
   "metadata": {},
   "outputs": [
    {
     "data": {
      "text/plain": [
       "(2929, 82)"
      ]
     },
     "execution_count": 11,
     "metadata": {},
     "output_type": "execute_result"
    }
   ],
   "source": [
    "house.shape"
   ]
  },
  {
   "cell_type": "code",
   "execution_count": 12,
   "id": "generic-fields",
   "metadata": {},
   "outputs": [],
   "source": [
    "house = pd.get_dummies(house, columns = buckets.keys(), drop_first = True, dummy_na = True)"
   ]
  },
  {
   "cell_type": "code",
   "execution_count": 13,
   "id": "competitive-honey",
   "metadata": {},
   "outputs": [
    {
     "data": {
      "text/plain": [
       "(2929, 148)"
      ]
     },
     "execution_count": 13,
     "metadata": {},
     "output_type": "execute_result"
    }
   ],
   "source": [
    "house.shape"
   ]
  },
  {
   "cell_type": "markdown",
   "id": "hired-equipment",
   "metadata": {},
   "source": [
    "***Remove all outliers***"
   ]
  },
  {
   "cell_type": "code",
   "execution_count": 14,
   "id": "commercial-christmas",
   "metadata": {},
   "outputs": [],
   "source": [
    "irrelevant = ['ms_sub_class', 'overall_qual', 'overall_cond', 'central_air', 'bsmt_full_bath', 'bsmt_half_bath', 'full_bath', 'half_bath', 'bedroom_abv_gr', 'kitchen_abv_gr', 'tot_rms_abv_grd', 'fireplaces', 'garage_cars']\n",
    "train = house[house['training'] == 1]\n",
    "\n",
    "outliers = mt.outlier_dict(train)\n",
    "\n",
    "for col in outliers:\n",
    "    if not col in irrelevant:\n",
    "        for out in outliers[col]:\n",
    "            train = train[train[col] != out]"
   ]
  },
  {
   "cell_type": "code",
   "execution_count": 15,
   "id": "reverse-lecture",
   "metadata": {},
   "outputs": [],
   "source": [
    "train = house[house['training'] == 1]\n",
    "test = house[house['training'] == 0]\n",
    "\n",
    "train.to_csv(\"datasets/modified_train.csv\")\n",
    "test.to_csv(\"datasets/modified_test.csv\")"
   ]
  },
  {
   "cell_type": "code",
   "execution_count": null,
   "id": "serial-singles",
   "metadata": {},
   "outputs": [],
   "source": []
  }
 ],
 "metadata": {
  "kernelspec": {
   "display_name": "Python 3",
   "language": "python",
   "name": "python3"
  },
  "language_info": {
   "codemirror_mode": {
    "name": "ipython",
    "version": 3
   },
   "file_extension": ".py",
   "mimetype": "text/x-python",
   "name": "python",
   "nbconvert_exporter": "python",
   "pygments_lexer": "ipython3",
   "version": "3.7.6"
  }
 },
 "nbformat": 4,
 "nbformat_minor": 5
}
