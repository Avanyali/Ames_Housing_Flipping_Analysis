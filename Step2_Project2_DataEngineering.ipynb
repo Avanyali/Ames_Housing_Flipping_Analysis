{
 "cells": [
  {
   "cell_type": "code",
   "execution_count": 1,
   "id": "mature-palmer",
   "metadata": {},
   "outputs": [],
   "source": [
    "import pandas as pd\n",
    "import matplotlib.pyplot as plt\n",
    "import seaborn as sns\n",
    "import numpy as np\n",
    "import mathis as mt\n",
    "import math\n",
    "from sklearn.linear_model import LassoCV\n",
    "from sklearn.model_selection import train_test_split"
   ]
  },
  {
   "cell_type": "code",
   "execution_count": 2,
   "id": "important-officer",
   "metadata": {},
   "outputs": [],
   "source": [
    "train = pd.read_csv(\"datasets/modified_train.csv\")\n",
    "test = pd.read_csv(\"datasets/modified_test.csv\")\n",
    "\n",
    "train = train.drop(columns = ['Unnamed: 0'])\n",
    "test = test.drop(columns = ['Unnamed: 0'])\n",
    "\n",
    "house = train.append(test)"
   ]
  },
  {
   "cell_type": "markdown",
   "id": "light-processing",
   "metadata": {},
   "source": [
    "# Data Engineering"
   ]
  },
  {
   "cell_type": "markdown",
   "id": "communist-galaxy",
   "metadata": {
    "tags": []
   },
   "source": [
    "***Determine features to bucket together***"
   ]
  },
  {
   "cell_type": "code",
   "execution_count": 3,
   "id": "victorian-tension",
   "metadata": {},
   "outputs": [],
   "source": [
    "candidates = mt.feature_bucket_candidates(house[house['training'] == 1])\n",
    "buckets = mt.greedy_bucket_selection(candidates)"
   ]
  },
  {
   "cell_type": "code",
   "execution_count": 4,
   "id": "nasty-dancing",
   "metadata": {},
   "outputs": [
    {
     "data": {
      "text/html": [
       "<div>\n",
       "<style scoped>\n",
       "    .dataframe tbody tr th:only-of-type {\n",
       "        vertical-align: middle;\n",
       "    }\n",
       "\n",
       "    .dataframe tbody tr th {\n",
       "        vertical-align: top;\n",
       "    }\n",
       "\n",
       "    .dataframe thead th {\n",
       "        text-align: right;\n",
       "    }\n",
       "</style>\n",
       "<table border=\"1\" class=\"dataframe\">\n",
       "  <thead>\n",
       "    <tr style=\"text-align: right;\">\n",
       "      <th></th>\n",
       "      <th>year_built</th>\n",
       "      <th>year_remod/add</th>\n",
       "      <th>mas_vnr_area</th>\n",
       "      <th>total_bsmt_sf</th>\n",
       "      <th>1st_flr_sf</th>\n",
       "      <th>gr_liv_area</th>\n",
       "      <th>garage_yr_blt</th>\n",
       "      <th>garage_area</th>\n",
       "      <th>sale_price</th>\n",
       "      <th>foundation_PConc</th>\n",
       "      <th>garage_cars_3.0</th>\n",
       "    </tr>\n",
       "  </thead>\n",
       "  <tbody>\n",
       "    <tr>\n",
       "      <th>0</th>\n",
       "      <td>0.571849</td>\n",
       "      <td>0.55037</td>\n",
       "      <td>0.503579</td>\n",
       "      <td>0.629303</td>\n",
       "      <td>0.618486</td>\n",
       "      <td>0.697038</td>\n",
       "      <td>0.556146</td>\n",
       "      <td>0.649897</td>\n",
       "      <td>1.0</td>\n",
       "      <td>0.529047</td>\n",
       "      <td>0.61911</td>\n",
       "    </tr>\n",
       "  </tbody>\n",
       "</table>\n",
       "</div>"
      ],
      "text/plain": [
       "   year_built  year_remod/add  mas_vnr_area  total_bsmt_sf  1st_flr_sf  \\\n",
       "0    0.571849         0.55037      0.503579       0.629303    0.618486   \n",
       "\n",
       "   gr_liv_area  garage_yr_blt  garage_area  sale_price  foundation_PConc  \\\n",
       "0     0.697038       0.556146     0.649897         1.0          0.529047   \n",
       "\n",
       "   garage_cars_3.0  \n",
       "0          0.61911  "
      ]
     },
     "execution_count": 4,
     "metadata": {},
     "output_type": "execute_result"
    }
   ],
   "source": [
    "all_dummies = pd.get_dummies(train, columns = buckets.keys(), drop_first = True, dummy_na = True)\n",
    "mt.corrs_selection(all_dummies, 'sale_price')"
   ]
  },
  {
   "cell_type": "code",
   "execution_count": 5,
   "id": "inner-shield",
   "metadata": {},
   "outputs": [],
   "source": [
    "house = mt.map_buckets(house, buckets)"
   ]
  },
  {
   "cell_type": "markdown",
   "id": "prime-watch",
   "metadata": {},
   "source": [
    "***Dummy categoricals***"
   ]
  },
  {
   "cell_type": "code",
   "execution_count": 6,
   "id": "acoustic-exposure",
   "metadata": {},
   "outputs": [
    {
     "data": {
      "text/plain": [
       "(2929, 82)"
      ]
     },
     "execution_count": 6,
     "metadata": {},
     "output_type": "execute_result"
    }
   ],
   "source": [
    "house.shape"
   ]
  },
  {
   "cell_type": "code",
   "execution_count": 7,
   "id": "sharp-aging",
   "metadata": {},
   "outputs": [],
   "source": [
    "house = pd.get_dummies(house, columns = buckets.keys(), drop_first = True, dummy_na = True)"
   ]
  },
  {
   "cell_type": "code",
   "execution_count": 8,
   "id": "awful-columbus",
   "metadata": {},
   "outputs": [
    {
     "data": {
      "text/plain": [
       "(2929, 222)"
      ]
     },
     "execution_count": 8,
     "metadata": {},
     "output_type": "execute_result"
    }
   ],
   "source": [
    "house.shape"
   ]
  },
  {
   "cell_type": "code",
   "execution_count": 9,
   "id": "alien-architecture",
   "metadata": {},
   "outputs": [],
   "source": [
    "train = house[house['training'] == 1]\n",
    "test = house[house['training'] == 0]"
   ]
  },
  {
   "cell_type": "code",
   "execution_count": 10,
   "id": "treated-government",
   "metadata": {},
   "outputs": [],
   "source": [
    "x_list = house.columns.tolist()\n",
    "x_list.remove('sale_price')\n",
    "X = train[x_list]\n",
    "y = train['sale_price']\n",
    "\n",
    "X_train, X_test, y_train, y_test = train_test_split(X, y, random_state = 42)\n",
    "house_lasso = LassoCV()"
   ]
  },
  {
   "cell_type": "code",
   "execution_count": 11,
   "id": "chief-brick",
   "metadata": {},
   "outputs": [
    {
     "data": {
      "text/html": [
       "<div>\n",
       "<style scoped>\n",
       "    .dataframe tbody tr th:only-of-type {\n",
       "        vertical-align: middle;\n",
       "    }\n",
       "\n",
       "    .dataframe tbody tr th {\n",
       "        vertical-align: top;\n",
       "    }\n",
       "\n",
       "    .dataframe thead th {\n",
       "        text-align: right;\n",
       "    }\n",
       "</style>\n",
       "<table border=\"1\" class=\"dataframe\">\n",
       "  <thead>\n",
       "    <tr style=\"text-align: right;\">\n",
       "      <th></th>\n",
       "      <th>year_built</th>\n",
       "      <th>year_remod/add</th>\n",
       "      <th>mas_vnr_area</th>\n",
       "      <th>total_bsmt_sf</th>\n",
       "      <th>1st_flr_sf</th>\n",
       "      <th>gr_liv_area</th>\n",
       "      <th>garage_yr_blt</th>\n",
       "      <th>garage_area</th>\n",
       "      <th>sale_price</th>\n",
       "      <th>foundation_PConc</th>\n",
       "    </tr>\n",
       "  </thead>\n",
       "  <tbody>\n",
       "    <tr>\n",
       "      <th>0</th>\n",
       "      <td>0.571849</td>\n",
       "      <td>0.55037</td>\n",
       "      <td>0.503579</td>\n",
       "      <td>0.629303</td>\n",
       "      <td>0.618486</td>\n",
       "      <td>0.697038</td>\n",
       "      <td>0.556146</td>\n",
       "      <td>0.649897</td>\n",
       "      <td>1.0</td>\n",
       "      <td>0.529047</td>\n",
       "    </tr>\n",
       "  </tbody>\n",
       "</table>\n",
       "</div>"
      ],
      "text/plain": [
       "   year_built  year_remod/add  mas_vnr_area  total_bsmt_sf  1st_flr_sf  \\\n",
       "0    0.571849         0.55037      0.503579       0.629303    0.618486   \n",
       "\n",
       "   gr_liv_area  garage_yr_blt  garage_area  sale_price  foundation_PConc  \n",
       "0     0.697038       0.556146     0.649897         1.0          0.529047  "
      ]
     },
     "execution_count": 11,
     "metadata": {},
     "output_type": "execute_result"
    }
   ],
   "source": [
    "mt.corrs_selection(train, 'sale_price')"
   ]
  },
  {
   "cell_type": "code",
   "execution_count": 12,
   "id": "cutting-struggle",
   "metadata": {},
   "outputs": [
    {
     "data": {
      "text/plain": [
       "LassoCV()"
      ]
     },
     "execution_count": 12,
     "metadata": {},
     "output_type": "execute_result"
    }
   ],
   "source": [
    "house_lasso.fit(X_train, y_train)"
   ]
  },
  {
   "cell_type": "code",
   "execution_count": 13,
   "id": "therapeutic-terminology",
   "metadata": {},
   "outputs": [
    {
     "data": {
      "text/plain": [
       "array([3.93920134e+12, 3.67371236e+12, 3.42611644e+12, 3.19520766e+12,\n",
       "       2.97986136e+12, 2.77902867e+12, 2.59173144e+12, 2.41705742e+12,\n",
       "       2.25415584e+12, 2.10223328e+12, 1.96054979e+12, 1.82841530e+12,\n",
       "       1.70518623e+12, 1.59026238e+12, 1.48308402e+12, 1.38312912e+12,\n",
       "       1.28991085e+12, 1.20297517e+12, 1.12189867e+12, 1.04628646e+12,\n",
       "       9.75770251e+11, 9.10006602e+11, 8.48675203e+11, 7.91477334e+11,\n",
       "       7.38134411e+11, 6.88386622e+11, 6.41991668e+11, 5.98723578e+11,\n",
       "       5.58371613e+11, 5.20739235e+11, 4.85643153e+11, 4.52912430e+11,\n",
       "       4.22387648e+11, 3.93920134e+11, 3.67371236e+11, 3.42611644e+11,\n",
       "       3.19520766e+11, 2.97986136e+11, 2.77902867e+11, 2.59173144e+11,\n",
       "       2.41705742e+11, 2.25415584e+11, 2.10223328e+11, 1.96054979e+11,\n",
       "       1.82841530e+11, 1.70518623e+11, 1.59026238e+11, 1.48308402e+11,\n",
       "       1.38312912e+11, 1.28991085e+11, 1.20297517e+11, 1.12189867e+11,\n",
       "       1.04628646e+11, 9.75770251e+10, 9.10006602e+10, 8.48675203e+10,\n",
       "       7.91477334e+10, 7.38134411e+10, 6.88386622e+10, 6.41991668e+10,\n",
       "       5.98723578e+10, 5.58371613e+10, 5.20739235e+10, 4.85643153e+10,\n",
       "       4.52912430e+10, 4.22387648e+10, 3.93920134e+10, 3.67371236e+10,\n",
       "       3.42611644e+10, 3.19520766e+10, 2.97986136e+10, 2.77902867e+10,\n",
       "       2.59173144e+10, 2.41705742e+10, 2.25415584e+10, 2.10223328e+10,\n",
       "       1.96054979e+10, 1.82841530e+10, 1.70518623e+10, 1.59026238e+10,\n",
       "       1.48308402e+10, 1.38312912e+10, 1.28991085e+10, 1.20297517e+10,\n",
       "       1.12189867e+10, 1.04628646e+10, 9.75770251e+09, 9.10006602e+09,\n",
       "       8.48675203e+09, 7.91477334e+09, 7.38134411e+09, 6.88386622e+09,\n",
       "       6.41991668e+09, 5.98723578e+09, 5.58371613e+09, 5.20739235e+09,\n",
       "       4.85643153e+09, 4.52912430e+09, 4.22387648e+09, 3.93920134e+09])"
      ]
     },
     "execution_count": 13,
     "metadata": {},
     "output_type": "execute_result"
    }
   ],
   "source": [
    "house_lasso.alphas_"
   ]
  },
  {
   "cell_type": "code",
   "execution_count": null,
   "id": "different-footage",
   "metadata": {},
   "outputs": [],
   "source": []
  }
 ],
 "metadata": {
  "kernelspec": {
   "display_name": "Python 3",
   "language": "python",
   "name": "python3"
  },
  "language_info": {
   "codemirror_mode": {
    "name": "ipython",
    "version": 3
   },
   "file_extension": ".py",
   "mimetype": "text/x-python",
   "name": "python",
   "nbconvert_exporter": "python",
   "pygments_lexer": "ipython3",
   "version": "3.7.6"
  }
 },
 "nbformat": 4,
 "nbformat_minor": 5
}
