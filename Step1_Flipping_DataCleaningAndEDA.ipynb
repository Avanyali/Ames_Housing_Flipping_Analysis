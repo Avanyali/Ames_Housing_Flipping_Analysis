{
 "cells": [
  {
   "cell_type": "code",
   "execution_count": 1,
   "id": "divided-basics",
   "metadata": {},
   "outputs": [],
   "source": [
    "import pandas as pd\n",
    "import matplotlib.pyplot as plt\n",
    "import seaborn as sns\n",
    "import numpy as np\n",
    "import mathis as mt\n",
    "import math"
   ]
  },
  {
   "cell_type": "code",
   "execution_count": 2,
   "id": "constitutional-mason",
   "metadata": {},
   "outputs": [],
   "source": [
    "tr = pd.read_csv(\"datasets/train.csv\")\n",
    "tr_test = pd.read_csv(\"datasets/test.csv\")\n",
    "\n",
    "tr['training'] = 1\n",
    "tr_test['training'] = 0\n",
    "tr_all = tr.append(tr_test)"
   ]
  },
  {
   "cell_type": "markdown",
   "id": "refined-receptor",
   "metadata": {},
   "source": [
    "# Data Cleaning"
   ]
  },
  {
   "cell_type": "code",
   "execution_count": 3,
   "id": "stainless-platform",
   "metadata": {},
   "outputs": [],
   "source": [
    "mt.convert_to_snake_case(tr_all)"
   ]
  },
  {
   "cell_type": "code",
   "execution_count": 4,
   "id": "correct-generation",
   "metadata": {},
   "outputs": [],
   "source": [
    "tr_all = tr_all.applymap(mt.yes_no_to_bin)"
   ]
  },
  {
   "cell_type": "markdown",
   "id": "residential-basement",
   "metadata": {},
   "source": [
    "***NaN Cleaning***"
   ]
  },
  {
   "cell_type": "code",
   "execution_count": 5,
   "id": "textile-township",
   "metadata": {},
   "outputs": [
    {
     "data": {
      "text/plain": [
       "{'lot_frontage': 330,\n",
       " 'alley': 1911,\n",
       " 'mas_vnr_type': 22,\n",
       " 'mas_vnr_area': 22,\n",
       " 'bsmt_qual': 55,\n",
       " 'bsmt_cond': 55,\n",
       " 'bsmt_exposure': 58,\n",
       " 'bsmt_fin_type_1': 55,\n",
       " 'bsmt_fin_sf_1': 1,\n",
       " 'bsmt_fin_type_2': 56,\n",
       " 'bsmt_fin_sf_2': 1,\n",
       " 'bsmt_unf_sf': 1,\n",
       " 'total_bsmt_sf': 1,\n",
       " 'bsmt_full_bath': 2,\n",
       " 'bsmt_half_bath': 2,\n",
       " 'fireplace_qu': 1000,\n",
       " 'garage_type': 113,\n",
       " 'garage_yr_blt': 114,\n",
       " 'garage_finish': 114,\n",
       " 'garage_cars': 1,\n",
       " 'garage_area': 1,\n",
       " 'garage_qual': 114,\n",
       " 'garage_cond': 114,\n",
       " 'pool_qc': 2042,\n",
       " 'fence': 1651,\n",
       " 'misc_feature': 1986}"
      ]
     },
     "execution_count": 5,
     "metadata": {},
     "output_type": "execute_result"
    }
   ],
   "source": [
    "{key: val for key, val in tr_all[tr_all['training'] == 1].isna().sum().to_dict().items() if int(val) > 0}"
   ]
  },
  {
   "cell_type": "markdown",
   "id": "constitutional-outline",
   "metadata": {},
   "source": [
    "- (Above) NaN values to determine if they need to be removed.\n",
    "- Lot frontage has NaNs that cannot be 0, since all houses have to be connected to the street. It is highly correlated to lot area, which is the lot's square feet. We can make the assumption that all houses are roughly square for the purposes of approximating lot_frontage, as frontage represents one side and thus the root."
   ]
  },
  {
   "cell_type": "code",
   "execution_count": 6,
   "id": "public-praise",
   "metadata": {},
   "outputs": [
    {
     "data": {
      "text/html": [
       "<div>\n",
       "<style scoped>\n",
       "    .dataframe tbody tr th:only-of-type {\n",
       "        vertical-align: middle;\n",
       "    }\n",
       "\n",
       "    .dataframe tbody tr th {\n",
       "        vertical-align: top;\n",
       "    }\n",
       "\n",
       "    .dataframe thead th {\n",
       "        text-align: right;\n",
       "    }\n",
       "</style>\n",
       "<table border=\"1\" class=\"dataframe\">\n",
       "  <thead>\n",
       "    <tr style=\"text-align: right;\">\n",
       "      <th></th>\n",
       "      <th>lot_area</th>\n",
       "    </tr>\n",
       "  </thead>\n",
       "  <tbody>\n",
       "    <tr>\n",
       "      <th>0</th>\n",
       "      <td>0.574024</td>\n",
       "    </tr>\n",
       "  </tbody>\n",
       "</table>\n",
       "</div>"
      ],
      "text/plain": [
       "   lot_area\n",
       "0  0.574024"
      ]
     },
     "execution_count": 6,
     "metadata": {},
     "output_type": "execute_result"
    }
   ],
   "source": [
    "mt.corrs_selection(tr_all[tr_all['training'] == 1], 'lot_frontage')"
   ]
  },
  {
   "cell_type": "code",
   "execution_count": 7,
   "id": "infrared-profile",
   "metadata": {},
   "outputs": [],
   "source": [
    "front = tr_all['lot_frontage'].tolist()\n",
    "area = tr_all['lot_area'].to_list()\n",
    "\n",
    "for i in range(0, len(front)):\n",
    "    if math.isnan(front[i]):\n",
    "        front[i] = area[i]**.5\n",
    "\n",
    "tr_all['lot_frontage'] = pd.Series(front)"
   ]
  },
  {
   "cell_type": "markdown",
   "id": "spanish-north",
   "metadata": {},
   "source": [
    "- Alley is nominal, and NaN values are meaningful in the data dictionary. We will dummy the column.\n",
    "- Mas Vnr Type is nominal with meaningful NaNs. No removal necessary.\n",
    "- Mas Vnr Area is always NaN when Mas Vnr Type is. Type being NaN indicates no veneer type, so we will set veneer area to 0."
   ]
  },
  {
   "cell_type": "code",
   "execution_count": 8,
   "id": "dated-mirror",
   "metadata": {},
   "outputs": [],
   "source": [
    "tr_all['mas_vnr_area'] = tr_all['mas_vnr_area'].map(lambda x: x if not math.isnan(x) else 0)"
   ]
  },
  {
   "cell_type": "markdown",
   "id": "extensive-stack",
   "metadata": {},
   "source": [
    "- Basement sf1, sf2, unf sf, total sf, full bath, and half bath are all continuous data. The only nulls in those values are in rows where bsmt_exposure is NaN, indicating that there is no basement. These values will be set to 0."
   ]
  },
  {
   "cell_type": "code",
   "execution_count": 9,
   "id": "differential-negotiation",
   "metadata": {},
   "outputs": [
    {
     "data": {
      "text/html": [
       "<div>\n",
       "<style scoped>\n",
       "    .dataframe tbody tr th:only-of-type {\n",
       "        vertical-align: middle;\n",
       "    }\n",
       "\n",
       "    .dataframe tbody tr th {\n",
       "        vertical-align: top;\n",
       "    }\n",
       "\n",
       "    .dataframe thead th {\n",
       "        text-align: right;\n",
       "    }\n",
       "</style>\n",
       "<table border=\"1\" class=\"dataframe\">\n",
       "  <thead>\n",
       "    <tr style=\"text-align: right;\">\n",
       "      <th></th>\n",
       "      <th>training</th>\n",
       "      <th>bsmt_qual</th>\n",
       "      <th>bsmt_cond</th>\n",
       "      <th>bsmt_exposure</th>\n",
       "      <th>bsmt_fin_type_1</th>\n",
       "      <th>bsmt_fin_sf_1</th>\n",
       "      <th>bsmt_fin_type_2</th>\n",
       "      <th>bsmt_fin_sf_2</th>\n",
       "      <th>bsmt_unf_sf</th>\n",
       "      <th>total_bsmt_sf</th>\n",
       "      <th>bsmt_full_bath</th>\n",
       "      <th>bsmt_half_bath</th>\n",
       "    </tr>\n",
       "  </thead>\n",
       "  <tbody>\n",
       "    <tr>\n",
       "      <th>616</th>\n",
       "      <td>1</td>\n",
       "      <td>NaN</td>\n",
       "      <td>NaN</td>\n",
       "      <td>NaN</td>\n",
       "      <td>NaN</td>\n",
       "      <td>0.0</td>\n",
       "      <td>NaN</td>\n",
       "      <td>0.0</td>\n",
       "      <td>0.0</td>\n",
       "      <td>0.0</td>\n",
       "      <td>NaN</td>\n",
       "      <td>NaN</td>\n",
       "    </tr>\n",
       "    <tr>\n",
       "      <th>1327</th>\n",
       "      <td>1</td>\n",
       "      <td>NaN</td>\n",
       "      <td>NaN</td>\n",
       "      <td>NaN</td>\n",
       "      <td>NaN</td>\n",
       "      <td>NaN</td>\n",
       "      <td>NaN</td>\n",
       "      <td>NaN</td>\n",
       "      <td>NaN</td>\n",
       "      <td>NaN</td>\n",
       "      <td>NaN</td>\n",
       "      <td>NaN</td>\n",
       "    </tr>\n",
       "  </tbody>\n",
       "</table>\n",
       "</div>"
      ],
      "text/plain": [
       "      training bsmt_qual bsmt_cond bsmt_exposure bsmt_fin_type_1  \\\n",
       "616          1       NaN       NaN           NaN             NaN   \n",
       "1327         1       NaN       NaN           NaN             NaN   \n",
       "\n",
       "      bsmt_fin_sf_1 bsmt_fin_type_2  bsmt_fin_sf_2  bsmt_unf_sf  \\\n",
       "616             0.0             NaN            0.0          0.0   \n",
       "1327            NaN             NaN            NaN          NaN   \n",
       "\n",
       "      total_bsmt_sf  bsmt_full_bath  bsmt_half_bath  \n",
       "616             0.0             NaN             NaN  \n",
       "1327            NaN             NaN             NaN  "
      ]
     },
     "execution_count": 9,
     "metadata": {},
     "output_type": "execute_result"
    }
   ],
   "source": [
    "tr_all[tr_all['bsmt_full_bath'].isna()][['training', 'bsmt_qual', 'bsmt_cond', 'bsmt_exposure', 'bsmt_fin_type_1', 'bsmt_fin_sf_1', 'bsmt_fin_type_2', 'bsmt_fin_sf_2', 'bsmt_unf_sf', 'total_bsmt_sf', 'bsmt_full_bath', 'bsmt_half_bath']]"
   ]
  },
  {
   "cell_type": "code",
   "execution_count": 10,
   "id": "simplified-porter",
   "metadata": {},
   "outputs": [],
   "source": [
    "basement_nums = ['bsmt_fin_sf_1','bsmt_fin_sf_2', 'bsmt_unf_sf', 'total_bsmt_sf', 'bsmt_full_bath', 'bsmt_half_bath']\n",
    "for col in basement_nums:\n",
    "    tr_all[col] = tr_all[col].map(lambda x: x if not math.isnan(x) else 0)"
   ]
  },
  {
   "cell_type": "markdown",
   "id": "greater-zimbabwe",
   "metadata": {},
   "source": [
    "- Basement quality, condition, exposure, type1, and type2 are all ordinal values with meaningful NaNs. They will be dummied later.\n",
    "- Fireplace qu is ordinal with a meaningful NaN.\n",
    "- Garage cars and garage area are discrete values that are only NaN in a single row. That row has all it's garage ordinal and nominal values indicating that there is no garage except for garage type. We will set cars and area to 0 and type to NaN to be in line with other, similar rows."
   ]
  },
  {
   "cell_type": "code",
   "execution_count": 11,
   "id": "republican-rwanda",
   "metadata": {},
   "outputs": [
    {
     "data": {
      "text/html": [
       "<div>\n",
       "<style scoped>\n",
       "    .dataframe tbody tr th:only-of-type {\n",
       "        vertical-align: middle;\n",
       "    }\n",
       "\n",
       "    .dataframe tbody tr th {\n",
       "        vertical-align: top;\n",
       "    }\n",
       "\n",
       "    .dataframe thead th {\n",
       "        text-align: right;\n",
       "    }\n",
       "</style>\n",
       "<table border=\"1\" class=\"dataframe\">\n",
       "  <thead>\n",
       "    <tr style=\"text-align: right;\">\n",
       "      <th></th>\n",
       "      <th>training</th>\n",
       "      <th>garage_type</th>\n",
       "      <th>garage_yr_blt</th>\n",
       "      <th>garage_finish</th>\n",
       "      <th>garage_cars</th>\n",
       "      <th>garage_area</th>\n",
       "      <th>garage_qual</th>\n",
       "      <th>garage_cond</th>\n",
       "    </tr>\n",
       "  </thead>\n",
       "  <tbody>\n",
       "    <tr>\n",
       "      <th>1712</th>\n",
       "      <td>1</td>\n",
       "      <td>Detchd</td>\n",
       "      <td>NaN</td>\n",
       "      <td>NaN</td>\n",
       "      <td>NaN</td>\n",
       "      <td>NaN</td>\n",
       "      <td>NaN</td>\n",
       "      <td>NaN</td>\n",
       "    </tr>\n",
       "  </tbody>\n",
       "</table>\n",
       "</div>"
      ],
      "text/plain": [
       "      training garage_type  garage_yr_blt garage_finish  garage_cars  \\\n",
       "1712         1      Detchd            NaN           NaN          NaN   \n",
       "\n",
       "      garage_area garage_qual garage_cond  \n",
       "1712          NaN         NaN         NaN  "
      ]
     },
     "execution_count": 11,
     "metadata": {},
     "output_type": "execute_result"
    }
   ],
   "source": [
    "tr_all[tr_all['garage_cars'].isna()][['training', 'garage_type', 'garage_yr_blt', 'garage_finish', 'garage_cars', 'garage_area', 'garage_qual', 'garage_cond']]"
   ]
  },
  {
   "cell_type": "code",
   "execution_count": 12,
   "id": "executed-laptop",
   "metadata": {},
   "outputs": [],
   "source": [
    "tr_all.iloc[1712, tr_all.columns.get_loc('garage_area')] = 0\n",
    "tr_all.iloc[1712, tr_all.columns.get_loc('garage_cars')] = 0\n",
    "tr_all.iloc[1712, tr_all.columns.get_loc('garage_type')] = np.NaN"
   ]
  },
  {
   "cell_type": "markdown",
   "id": "chicken-investment",
   "metadata": {},
   "source": [
    "- Garage year built will be an issue later with NaNs as a discrete variable with many values. Setting them to house year built to avoid causing data issues."
   ]
  },
  {
   "cell_type": "code",
   "execution_count": 13,
   "id": "matched-bernard",
   "metadata": {},
   "outputs": [],
   "source": [
    "year = tr_all['year_built'].tolist()\n",
    "garage_yr = tr_all['garage_yr_blt'].to_list()\n",
    "\n",
    "for i in range(0, len(garage_yr)):\n",
    "    if math.isnan(garage_yr[i]):\n",
    "        garage_yr[i] = year[i]\n",
    "\n",
    "tr_all['garage_yr_blt'] = pd.Series(garage_yr)"
   ]
  },
  {
   "cell_type": "markdown",
   "id": "continued-toolbox",
   "metadata": {},
   "source": [
    "- Garage type, year built, finish, quality, and condition all have meaningful NaNs that will be dummied later.\n",
    "- Pool qc, fence, and misc feature also full under this category. There are no more NaNs for us to clean."
   ]
  },
  {
   "cell_type": "code",
   "execution_count": 14,
   "id": "fluid-frederick",
   "metadata": {
    "tags": []
   },
   "outputs": [
    {
     "data": {
      "text/plain": [
       "{'alley': 1911,\n",
       " 'mas_vnr_type': 22,\n",
       " 'bsmt_qual': 55,\n",
       " 'bsmt_cond': 55,\n",
       " 'bsmt_exposure': 58,\n",
       " 'bsmt_fin_type_1': 55,\n",
       " 'bsmt_fin_type_2': 56,\n",
       " 'fireplace_qu': 1000,\n",
       " 'garage_type': 114,\n",
       " 'garage_finish': 114,\n",
       " 'garage_qual': 114,\n",
       " 'garage_cond': 114,\n",
       " 'pool_qc': 2042,\n",
       " 'fence': 1651,\n",
       " 'misc_feature': 1986}"
      ]
     },
     "execution_count": 14,
     "metadata": {},
     "output_type": "execute_result"
    }
   ],
   "source": [
    "{key: val for key, val in tr_all[tr_all['training'] == 1].isna().sum().to_dict().items() if int(val) > 0}"
   ]
  },
  {
   "cell_type": "markdown",
   "id": "registered-interstate",
   "metadata": {},
   "source": [
    "***Outlier cleaning***"
   ]
  },
  {
   "cell_type": "markdown",
   "id": "opposed-advertiser",
   "metadata": {},
   "source": [
    "- Note: for additional visuals, see pairplot.png in this repository, created at this step."
   ]
  },
  {
   "cell_type": "code",
   "execution_count": 15,
   "id": "statewide-mining",
   "metadata": {},
   "outputs": [
    {
     "data": {
      "image/png": "[encoded data removed]",
      "text/plain": [
       "<Figure size 432x288 with 1 Axes>"
      ]
     },
     "metadata": {
      "needs_background": "light"
     },
     "output_type": "display_data"
    }
   ],
   "source": [
    "sns.scatterplot(data = tr_all[tr_all['training'] == 1], x = 'garage_yr_blt', y = 'year_built')\n",
    "plt.xlabel(\"Garage year built\")\n",
    "plt.ylabel(\"House year built\")\n",
    "plt.title(\"House vs. Garage year built\")\n",
    "plt.show()"
   ]
  },
  {
   "cell_type": "markdown",
   "id": "associate-cassette",
   "metadata": {},
   "source": [
    "- Outlier identified in garage year built via visual analysis. Appears to be clerical error, correcting 2207 to 2007."
   ]
  },
  {
   "cell_type": "code",
   "execution_count": 16,
   "id": "engaging-entrance",
   "metadata": {},
   "outputs": [
    {
     "data": {
      "text/html": [
       "<div>\n",
       "<style scoped>\n",
       "    .dataframe tbody tr th:only-of-type {\n",
       "        vertical-align: middle;\n",
       "    }\n",
       "\n",
       "    .dataframe tbody tr th {\n",
       "        vertical-align: top;\n",
       "    }\n",
       "\n",
       "    .dataframe thead th {\n",
       "        text-align: right;\n",
       "    }\n",
       "</style>\n",
       "<table border=\"1\" class=\"dataframe\">\n",
       "  <thead>\n",
       "    <tr style=\"text-align: right;\">\n",
       "      <th></th>\n",
       "      <th>year_built</th>\n",
       "      <th>garage_yr_blt</th>\n",
       "    </tr>\n",
       "  </thead>\n",
       "  <tbody>\n",
       "    <tr>\n",
       "      <th>1699</th>\n",
       "      <td>2006</td>\n",
       "      <td>2207.0</td>\n",
       "    </tr>\n",
       "  </tbody>\n",
       "</table>\n",
       "</div>"
      ],
      "text/plain": [
       "      year_built  garage_yr_blt\n",
       "1699        2006         2207.0"
      ]
     },
     "execution_count": 16,
     "metadata": {},
     "output_type": "execute_result"
    }
   ],
   "source": [
    "pd.set_option('display.max_columns', None)\n",
    "tr_all[(tr_all['training'] == 1) & (tr_all['garage_yr_blt'] > 2100)][['year_built', 'garage_yr_blt']]"
   ]
  },
  {
   "cell_type": "code",
   "execution_count": 17,
   "id": "thermal-patio",
   "metadata": {},
   "outputs": [],
   "source": [
    "tr_all.iloc[1699, tr_all.columns.get_loc('garage_yr_blt')] = 2007"
   ]
  },
  {
   "cell_type": "code",
   "execution_count": 18,
   "id": "virtual-eligibility",
   "metadata": {},
   "outputs": [
    {
     "data": {
      "image/png": "[encoded data removed]",
      "text/plain": [
       "<Figure size 432x288 with 1 Axes>"
      ]
     },
     "metadata": {
      "needs_background": "light"
     },
     "output_type": "display_data"
    }
   ],
   "source": [
    "sns.scatterplot(data = tr_all[tr_all['training'] == 1], x = 'total_bsmt_sf', y = 'lot_area')\n",
    "plt.xlabel(\"Total basement square footage\")\n",
    "plt.ylabel(\"Lot area square footage\")\n",
    "plt.title(\"Square footage of basements vs lot area\")\n",
    "plt.show()"
   ]
  },
  {
   "cell_type": "markdown",
   "id": "judicial-bundle",
   "metadata": {},
   "source": [
    "- Basement outliers with high basement sf to lot area ratio deemed to be within the realm of possiblity when compared to other high basement sf data. No removal required."
   ]
  },
  {
   "cell_type": "code",
   "execution_count": 19,
   "id": "known-ozone",
   "metadata": {},
   "outputs": [
    {
     "data": {
      "text/plain": [
       "2216.5"
      ]
     },
     "execution_count": 19,
     "metadata": {},
     "output_type": "execute_result"
    }
   ],
   "source": [
    "tr_all[(tr_all['training'] == 1)]['total_bsmt_sf'].quantile(.99)"
   ]
  },
  {
   "cell_type": "code",
   "execution_count": 20,
   "id": "proprietary-result",
   "metadata": {},
   "outputs": [
    {
     "data": {
      "text/html": [
       "<div>\n",
       "<style scoped>\n",
       "    .dataframe tbody tr th:only-of-type {\n",
       "        vertical-align: middle;\n",
       "    }\n",
       "\n",
       "    .dataframe tbody tr th {\n",
       "        vertical-align: top;\n",
       "    }\n",
       "\n",
       "    .dataframe thead th {\n",
       "        text-align: right;\n",
       "    }\n",
       "</style>\n",
       "<table border=\"1\" class=\"dataframe\">\n",
       "  <thead>\n",
       "    <tr style=\"text-align: right;\">\n",
       "      <th></th>\n",
       "      <th>960</th>\n",
       "      <th>1885</th>\n",
       "      <th>1147</th>\n",
       "      <th>328</th>\n",
       "      <th>1164</th>\n",
       "      <th>1227</th>\n",
       "      <th>1964</th>\n",
       "      <th>1117</th>\n",
       "      <th>30</th>\n",
       "      <th>623</th>\n",
       "      <th>786</th>\n",
       "      <th>685</th>\n",
       "      <th>1647</th>\n",
       "      <th>1058</th>\n",
       "      <th>199</th>\n",
       "      <th>1671</th>\n",
       "      <th>800</th>\n",
       "      <th>1158</th>\n",
       "      <th>378</th>\n",
       "      <th>480</th>\n",
       "      <th>1248</th>\n",
       "    </tr>\n",
       "  </thead>\n",
       "  <tbody>\n",
       "    <tr>\n",
       "      <th>lot_area</th>\n",
       "      <td>63887.0</td>\n",
       "      <td>39290.0</td>\n",
       "      <td>10655.0</td>\n",
       "      <td>12692.0</td>\n",
       "      <td>15431.0</td>\n",
       "      <td>14300.0</td>\n",
       "      <td>51974.0</td>\n",
       "      <td>11400.0</td>\n",
       "      <td>9600.0</td>\n",
       "      <td>14836.0</td>\n",
       "      <td>17778.0</td>\n",
       "      <td>11128.0</td>\n",
       "      <td>15274.0</td>\n",
       "      <td>13693.0</td>\n",
       "      <td>13472.0</td>\n",
       "      <td>12919.0</td>\n",
       "      <td>17169.0</td>\n",
       "      <td>11778.0</td>\n",
       "      <td>13651.0</td>\n",
       "      <td>14082.0</td>\n",
       "      <td>15865.0</td>\n",
       "    </tr>\n",
       "    <tr>\n",
       "      <th>total_bsmt_sf</th>\n",
       "      <td>6110.0</td>\n",
       "      <td>5095.0</td>\n",
       "      <td>3206.0</td>\n",
       "      <td>3200.0</td>\n",
       "      <td>3094.0</td>\n",
       "      <td>2846.0</td>\n",
       "      <td>2660.0</td>\n",
       "      <td>2633.0</td>\n",
       "      <td>2524.0</td>\n",
       "      <td>2492.0</td>\n",
       "      <td>2461.0</td>\n",
       "      <td>2458.0</td>\n",
       "      <td>2452.0</td>\n",
       "      <td>2418.0</td>\n",
       "      <td>2392.0</td>\n",
       "      <td>2330.0</td>\n",
       "      <td>2320.0</td>\n",
       "      <td>2271.0</td>\n",
       "      <td>2223.0</td>\n",
       "      <td>2220.0</td>\n",
       "      <td>2217.0</td>\n",
       "    </tr>\n",
       "  </tbody>\n",
       "</table>\n",
       "</div>"
      ],
      "text/plain": [
       "                  960      1885     1147     328      1164     1227     1964  \\\n",
       "lot_area       63887.0  39290.0  10655.0  12692.0  15431.0  14300.0  51974.0   \n",
       "total_bsmt_sf   6110.0   5095.0   3206.0   3200.0   3094.0   2846.0   2660.0   \n",
       "\n",
       "                  1117    30       623      786      685      1647     1058  \\\n",
       "lot_area       11400.0  9600.0  14836.0  17778.0  11128.0  15274.0  13693.0   \n",
       "total_bsmt_sf   2633.0  2524.0   2492.0   2461.0   2458.0   2452.0   2418.0   \n",
       "\n",
       "                  199      1671     800      1158     378      480      1248  \n",
       "lot_area       13472.0  12919.0  17169.0  11778.0  13651.0  14082.0  15865.0  \n",
       "total_bsmt_sf   2392.0   2330.0   2320.0   2271.0   2223.0   2220.0   2217.0  "
      ]
     },
     "execution_count": 20,
     "metadata": {},
     "output_type": "execute_result"
    }
   ],
   "source": [
    "tr_all[(tr_all['training'] == 1) & (tr_all['total_bsmt_sf'] > 2216)][['lot_area', 'total_bsmt_sf']].sort_values(by = 'total_bsmt_sf', ascending = False).T"
   ]
  },
  {
   "cell_type": "markdown",
   "id": "irish-little",
   "metadata": {},
   "source": [
    "- Moving on to outliers with |z_score| > 3. Among outliers below, none were deemed to be due to clerical error or beyond the realm of possibility."
   ]
  },
  {
   "cell_type": "code",
   "execution_count": 21,
   "id": "beginning-ladder",
   "metadata": {},
   "outputs": [
    {
     "name": "stdout",
     "output_type": "stream",
     "text": [
      "lot_frontage, [174.0, 180.17491501316158, 180.74291134094304, 195.0, 198.45402490249472, 200.0, 217.43964679883013, 223.83476048192335, 230.44956064180292, 230.70977439198367, 239.16521486202797, 313.0, 313.0, 339.3361165570208, 398.74804074753774]\n",
      "\n",
      "lot_area, [31250, 31770, 32463, 32668, 33120, 34650, 39104, 39290, 39384, 41600, 43500, 46589, 47007, 47280, 50102, 50271, 51974, 53107, 53227, 53504, 57200, 63887, 70761, 115149, 159000]\n",
      "\n",
      "year_built, [1872, 1875, 1879, 1880, 1880, 1880]\n",
      "\n",
      "mas_vnr_area, [630.0, 632.0, 640.0, 647.0, 650.0, 650.0, 651.0, 652.0, 660.0, 660.0, 662.0, 664.0, 668.0, 673.0, 674.0, 692.0, 705.0, 710.0, 714.0, 724.0, 730.0, 731.0, 734.0, 738.0, 748.0, 760.0, 766.0, 772.0, 796.0, 816.0, 860.0, 886.0, 894.0, 902.0, 922.0, 945.0, 970.0, 1031.0, 1047.0, 1050.0, 1095.0, 1110.0, 1115.0, 1129.0, 1224.0, 1600.0]\n",
      "\n",
      "bsmt_fin_sf_1, [1880.0, 1904.0, 1972.0, 2085.0, 2146.0, 2158.0, 2188.0, 4010.0, 5644.0]\n",
      "\n",
      "bsmt_fin_sf_2, [546.0, 547.0, 551.0, 551.0, 555.0, 557.0, 580.0, 590.0, 590.0, 596.0, 596.0, 600.0, 604.0, 608.0, 612.0, 613.0, 619.0, 620.0, 620.0, 622.0, 624.0, 645.0, 661.0, 670.0, 670.0, 688.0, 692.0, 712.0, 713.0, 722.0, 723.0, 748.0, 750.0, 761.0, 768.0, 774.0, 811.0, 823.0, 829.0, 841.0, 842.0, 850.0, 852.0, 859.0, 869.0, 872.0, 875.0, 891.0, 906.0, 915.0, 955.0, 956.0, 982.0, 1037.0, 1039.0, 1057.0, 1061.0, 1063.0, 1073.0, 1080.0, 1083.0, 1085.0, 1120.0, 1127.0, 1393.0, 1474.0]\n",
      "\n",
      "bsmt_unf_sf, [1905.0, 1907.0, 1926.0, 1935.0, 1958.0, 1969.0, 2062.0, 2121.0, 2140.0, 2153.0, 2336.0]\n",
      "\n",
      "total_bsmt_sf, [2418.0, 2452.0, 2458.0, 2461.0, 2492.0, 2524.0, 2633.0, 2660.0, 2846.0, 3094.0, 3200.0, 3206.0, 5095.0, 6110.0]\n",
      "\n",
      "1st_flr_sf, [2364, 2365, 2392, 2402, 2452, 2464, 2490, 2492, 2497, 2515, 2524, 2633, 2696, 2726, 2898, 3228, 3820, 4692, 5095]\n",
      "\n",
      "2nd_flr_sf, [1611, 1619, 1619, 1721, 1818, 1836, 1862]\n",
      "\n",
      "low_qual_fin_sf, [205, 205, 234, 259, 312, 360, 362, 371, 384, 390, 397, 436, 450, 473, 479, 512, 513, 514, 515, 528, 572, 697, 1064]\n",
      "\n",
      "gr_liv_area, [3078, 3082, 3086, 3140, 3222, 3228, 3238, 3279, 3390, 3395, 3493, 3500, 3608, 3672, 3820, 5095, 5642]\n",
      "\n",
      "garage_yr_blt, [1872.0, 1875.0, 1890.0, 1895.0, 1895.0, 1895.0, 1896.0]\n",
      "\n",
      "garage_area, [1138.0, 1150.0, 1154.0, 1166.0, 1174.0, 1184.0, 1220.0, 1231.0, 1314.0, 1348.0, 1356.0, 1418.0]\n",
      "\n",
      "wood_deck_sf, [483, 483, 495, 496, 500, 503, 509, 517, 519, 520, 521, 530, 536, 546, 550, 576, 586, 631, 635, 641, 646, 657, 668, 684, 728, 736, 857, 870, 1424]\n",
      "\n",
      "open_porch_sf, [251, 252, 256, 258, 260, 265, 265, 266, 274, 276, 278, 282, 285, 288, 291, 292, 299, 304, 304, 312, 312, 312, 319, 324, 341, 364, 365, 368, 372, 418, 444, 484, 502, 523, 547]\n",
      "\n",
      "enclosed_porch, [203, 204, 205, 205, 205, 207, 208, 210, 211, 211, 212, 212, 212, 213, 214, 216, 216, 216, 216, 216, 216, 218, 218, 219, 222, 222, 224, 225, 226, 228, 228, 230, 231, 234, 234, 236, 236, 236, 239, 240, 240, 240, 244, 244, 246, 246, 249, 252, 252, 256, 259, 260, 264, 264, 265, 268, 272, 275, 280, 280, 280, 280, 288, 291, 294, 296, 301, 318, 324, 330, 364, 368, 432]\n",
      "\n",
      "3ssn_porch, [86, 96, 120, 140, 144, 144, 150, 153, 153, 153, 162, 168, 168, 168, 176, 180, 182, 216, 224, 245, 255, 290, 304, 323, 407, 508]\n",
      "\n",
      "screen_porch, [189, 189, 189, 190, 192, 192, 192, 192, 192, 192, 192, 195, 195, 196, 198, 200, 200, 200, 201, 204, 208, 210, 210, 210, 216, 216, 216, 216, 216, 217, 220, 222, 224, 224, 224, 224, 224, 224, 225, 225, 225, 227, 231, 233, 234, 240, 240, 252, 255, 255, 259, 260, 264, 265, 266, 270, 271, 276, 280, 288, 288, 288, 291, 312, 322, 322, 342, 348, 374, 385, 396, 410, 440, 480, 490]\n",
      "\n",
      "pool_area, [228, 368, 480, 519, 561, 576, 648, 738, 800]\n",
      "\n",
      "misc_val, [2000, 2000, 2000, 2000, 2000, 2500, 2500, 3000, 3000, 3500, 4500, 4500, 6500, 8300, 12500, 17000]\n",
      "\n",
      "sale_price, [421250.0, 425000.0, 426000.0, 430000.0, 438780.0, 440000.0, 441929.0, 445000.0, 446261.0, 450000.0, 451950.0, 455000.0, 457347.0, 460000.0, 465000.0, 466500.0, 468000.0, 475000.0, 475000.0, 485000.0, 500000.0, 500067.0, 501837.0, 535000.0, 538000.0, 545224.0, 552000.0, 555000.0, 556581.0, 582933.0, 584500.0, 591587.0, 611657.0]\n",
      "\n"
     ]
    }
   ],
   "source": [
    "irrelevant = ['ms_sub_class', 'overall_qual', 'overall_cond', 'central_air', 'bsmt_full_bath', 'bsmt_half_bath', 'full_bath', 'half_bath', 'bedroom_abv_gr', 'kitchen_abv_gr', 'tot_rms_abv_grd', 'fireplaces', 'garage_cars']\n",
    "for key, val in mt.outlier_dict(tr_all[tr_all['training'] == 1]).items():\n",
    "    if not key in irrelevant:\n",
    "        print(f'{key}, {val}\\n')"
   ]
  },
  {
   "cell_type": "markdown",
   "id": "developmental-thumb",
   "metadata": {},
   "source": [
    "***Save files***"
   ]
  },
  {
   "cell_type": "code",
   "execution_count": 22,
   "id": "through-hunter",
   "metadata": {},
   "outputs": [],
   "source": [
    "train = tr_all[tr_all['training'] == 1]\n",
    "test = tr_all[tr_all['training'] == 0]\n",
    "\n",
    "train.to_csv(\"datasets/modified_train.csv\")\n",
    "test.to_csv(\"datasets/modified_test.csv\")"
   ]
  },
  {
   "cell_type": "markdown",
   "id": "generous-description",
   "metadata": {},
   "source": [
    "***To step 2***"
   ]
  }
 ],
 "metadata": {
  "kernelspec": {
   "display_name": "Python 3",
   "language": "python",
   "name": "python3"
  },
  "language_info": {
   "codemirror_mode": {
    "name": "ipython",
    "version": 3
   },
   "file_extension": ".py",
   "mimetype": "text/x-python",
   "name": "python",
   "nbconvert_exporter": "python",
   "pygments_lexer": "ipython3",
   "version": "3.7.6"
  }
 },
 "nbformat": 4,
 "nbformat_minor": 5
}
