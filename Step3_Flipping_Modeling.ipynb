{
 "cells": [
  {
   "cell_type": "code",
   "execution_count": 1,
   "id": "strange-compensation",
   "metadata": {},
   "outputs": [],
   "source": [
    "import pandas as pd\n",
    "import matplotlib.pyplot as plt\n",
    "import seaborn as sns\n",
    "import numpy as np\n",
    "import mathis as mt\n",
    "import math\n",
    "from sklearn.linear_model import LassoCV, RidgeCV, LinearRegression, LogisticRegressionCV\n",
    "from sklearn.preprocessing import StandardScaler\n",
    "from sklearn.model_selection import train_test_split\n",
    "from sklearn.metrics import r2_score, mean_squared_error\n",
    "from sklearn.dummy import DummyRegressor"
   ]
  },
  {
   "cell_type": "code",
   "execution_count": 2,
   "id": "pointed-resolution",
   "metadata": {},
   "outputs": [],
   "source": [
    "train = pd.read_csv(\"datasets/modified_train.csv\")\n",
    "test = pd.read_csv(\"datasets/modified_test.csv\")\n",
    "\n",
    "train = train.drop(columns = ['Unnamed: 0', 'training'])\n",
    "test = test.drop(columns = ['Unnamed: 0', 'training'])\n",
    "\n",
    "house = train.append(test)"
   ]
  },
  {
   "cell_type": "code",
   "execution_count": 3,
   "id": "charged-theory",
   "metadata": {},
   "outputs": [],
   "source": [
    "def quick_lr(columns):\n",
    "    X = train[columns]\n",
    "    y = train['sale_price']\n",
    "\n",
    "    X_train, X_test, y_train, y_test = train_test_split(X, y, random_state = 42)\n",
    "    lr = LinearRegression()\n",
    "    lr.fit(X_train, y_train)\n",
    "    y_pred = lr.predict(X_test)\n",
    "    return r2_score(y_test, y_pred), mean_squared_error(y_test, y_pred, squared = False)"
   ]
  },
  {
   "cell_type": "markdown",
   "id": "growing-destination",
   "metadata": {},
   "source": [
    "# Modeling"
   ]
  },
  {
   "cell_type": "markdown",
   "id": "injured-equilibrium",
   "metadata": {},
   "source": [
    "***Test Models***"
   ]
  },
  {
   "cell_type": "code",
   "execution_count": 4,
   "id": "female-afternoon",
   "metadata": {},
   "outputs": [],
   "source": [
    "x_list = house.columns.tolist()\n",
    "x_list.remove('sale_price')\n",
    "X = train[x_list]\n",
    "y = train['sale_price']\n",
    "\n",
    "X_train, X_test, y_train, y_test = train_test_split(X, y, random_state = 42)"
   ]
  },
  {
   "cell_type": "code",
   "execution_count": 5,
   "id": "peripheral-biology",
   "metadata": {},
   "outputs": [],
   "source": [
    "sc = StandardScaler()\n",
    "Z_train = sc.fit_transform(X_train)\n",
    "Z_test = sc.transform(X_test)\n",
    "r_alphas = np.logspace(0,100,1000)\n",
    "lasso_cv = LassoCV(alphas=r_alphas, random_state=42, cv=5, max_iter = 10000)\n",
    "lasso_cv.fit(Z_train,y_train);\n",
    "lasso_pred = lasso_cv.predict(Z_test)"
   ]
  },
  {
   "cell_type": "code",
   "execution_count": 6,
   "id": "periodic-navigation",
   "metadata": {},
   "outputs": [],
   "source": [
    "sc = StandardScaler()\n",
    "Z_train2 = sc.fit_transform(X_train)\n",
    "Z_test2 = sc.transform(X_test)\n",
    "r_alphas = np.logspace(0,100,1000)\n",
    "ridge_cv = RidgeCV(alphas=r_alphas,scoring=\"neg_mean_squared_error\", cv=5)\n",
    "ridge_cv.fit(Z_train2,y_train);\n",
    "ridge_pred = ridge_cv.predict(Z_test2)"
   ]
  },
  {
   "cell_type": "code",
   "execution_count": 7,
   "id": "absent-company",
   "metadata": {},
   "outputs": [
    {
     "data": {
      "text/html": [
       "<div>\n",
       "<style scoped>\n",
       "    .dataframe tbody tr th:only-of-type {\n",
       "        vertical-align: middle;\n",
       "    }\n",
       "\n",
       "    .dataframe tbody tr th {\n",
       "        vertical-align: top;\n",
       "    }\n",
       "\n",
       "    .dataframe thead th {\n",
       "        text-align: right;\n",
       "    }\n",
       "</style>\n",
       "<table border=\"1\" class=\"dataframe\">\n",
       "  <thead>\n",
       "    <tr style=\"text-align: right;\">\n",
       "      <th></th>\n",
       "      <th>overall_qual</th>\n",
       "      <th>year_built</th>\n",
       "      <th>year_remod/add</th>\n",
       "      <th>mas_vnr_area</th>\n",
       "      <th>exter_qual</th>\n",
       "      <th>bsmt_qual</th>\n",
       "      <th>total_bsmt_sf</th>\n",
       "      <th>1st_flr_sf</th>\n",
       "      <th>gr_liv_area</th>\n",
       "      <th>full_bath</th>\n",
       "      <th>kitchen_qual</th>\n",
       "      <th>tot_rms_abv_grd</th>\n",
       "      <th>fireplace_qu</th>\n",
       "      <th>garage_yr_blt</th>\n",
       "      <th>garage_finish</th>\n",
       "      <th>garage_cars</th>\n",
       "      <th>garage_area</th>\n",
       "      <th>foundation_PConc</th>\n",
       "    </tr>\n",
       "  </thead>\n",
       "  <tbody>\n",
       "    <tr>\n",
       "      <th>0</th>\n",
       "      <td>0.810548</td>\n",
       "      <td>0.585223</td>\n",
       "      <td>0.559321</td>\n",
       "      <td>0.503621</td>\n",
       "      <td>0.714711</td>\n",
       "      <td>0.619759</td>\n",
       "      <td>0.655701</td>\n",
       "      <td>0.643099</td>\n",
       "      <td>0.713283</td>\n",
       "      <td>0.542345</td>\n",
       "      <td>0.698426</td>\n",
       "      <td>0.503016</td>\n",
       "      <td>0.537636</td>\n",
       "      <td>0.568093</td>\n",
       "      <td>0.565849</td>\n",
       "      <td>0.653993</td>\n",
       "      <td>0.654364</td>\n",
       "      <td>0.542314</td>\n",
       "    </tr>\n",
       "  </tbody>\n",
       "</table>\n",
       "</div>"
      ],
      "text/plain": [
       "   overall_qual  year_built  year_remod/add  mas_vnr_area  exter_qual  \\\n",
       "0      0.810548    0.585223        0.559321      0.503621    0.714711   \n",
       "\n",
       "   bsmt_qual  total_bsmt_sf  1st_flr_sf  gr_liv_area  full_bath  kitchen_qual  \\\n",
       "0   0.619759       0.655701    0.643099     0.713283   0.542345      0.698426   \n",
       "\n",
       "   tot_rms_abv_grd  fireplace_qu  garage_yr_blt  garage_finish  garage_cars  \\\n",
       "0         0.503016      0.537636       0.568093       0.565849     0.653993   \n",
       "\n",
       "   garage_area  foundation_PConc  \n",
       "0     0.654364          0.542314  "
      ]
     },
     "execution_count": 7,
     "metadata": {},
     "output_type": "execute_result"
    }
   ],
   "source": [
    "best_corrs = mt.corrs_selection(train, 'sale_price')\n",
    "best_corrs"
   ]
  },
  {
   "cell_type": "code",
   "execution_count": 8,
   "id": "studied-techno",
   "metadata": {},
   "outputs": [],
   "source": [
    "counts = mt.colinearity_count(train, best_corrs.columns.tolist())"
   ]
  },
  {
   "cell_type": "code",
   "execution_count": 9,
   "id": "stock-consultancy",
   "metadata": {},
   "outputs": [],
   "source": [
    "#credit to: Dan Andrews\n",
    "def adjusted_r2(r2, X, y):\n",
    "    return 1 - (1-r2)*(len(y)-1)/(len(y)-X.shape[1]-1)"
   ]
  },
  {
   "cell_type": "code",
   "execution_count": 10,
   "id": "linear-guinea",
   "metadata": {},
   "outputs": [],
   "source": [
    "dum = DummyRegressor(strategy = 'mean')"
   ]
  },
  {
   "cell_type": "code",
   "execution_count": 11,
   "id": "antique-solid",
   "metadata": {},
   "outputs": [
    {
     "name": "stdout",
     "output_type": "stream",
     "text": [
      "Adjusted R2: -0.20500403551251, RMSE: 80723.5596924164\n"
     ]
    }
   ],
   "source": [
    "dum.fit(X_train, y_train)\n",
    "dum_pred = dum.predict(X_test)\n",
    "r2 = dum.score(X_train,y_train)\n",
    "print(f'Adjusted R2: {adjusted_r2(r2, X_train, y_train)}, RMSE: {mean_squared_error(y_test, dum_pred, squared = False)}')"
   ]
  },
  {
   "cell_type": "markdown",
   "id": "broadband-president",
   "metadata": {},
   "source": [
    "- Dummy model for reference. Predicting the mean gives a terrible R2 and a baseline for our RMSE."
   ]
  },
  {
   "cell_type": "code",
   "execution_count": 12,
   "id": "mediterranean-growth",
   "metadata": {},
   "outputs": [
    {
     "name": "stdout",
     "output_type": "stream",
     "text": [
      "Adjusted R2: 0.9182566156536868, RMSE: 24577.652585376145\n"
     ]
    }
   ],
   "source": [
    "r2 = lasso_cv.score(Z_train,y_train)\n",
    "print(f'Adjusted R2: {adjusted_r2(r2, Z_train, y_train)}, RMSE: {mean_squared_error(y_test, lasso_pred, squared = False)}')"
   ]
  },
  {
   "cell_type": "markdown",
   "id": "integrated-georgia",
   "metadata": {},
   "source": [
    "- LASSO presents a marginally worse R2 than Ridge and a slightly better RMSE. This RMSE is likely due to the large number of binary categorical columns in the dataset, which LASSO can elect to ignore and Ridge cannot."
   ]
  },
  {
   "cell_type": "code",
   "execution_count": 13,
   "id": "hungarian-highlight",
   "metadata": {},
   "outputs": [
    {
     "name": "stdout",
     "output_type": "stream",
     "text": [
      "Adjusted R2: 0.9212927961013377, RMSE: 25038.74948855554\n"
     ]
    }
   ],
   "source": [
    "r2 = ridge_cv.score(Z_train2,y_train)\n",
    "print(f'Adjusted R2: {adjusted_r2(r2, Z_train2, y_train)}, RMSE: {mean_squared_error(y_test, ridge_pred, squared = False)}')"
   ]
  },
  {
   "cell_type": "code",
   "execution_count": 14,
   "id": "sublime-centre",
   "metadata": {},
   "outputs": [
    {
     "name": "stdout",
     "output_type": "stream",
     "text": [
      "Adjusted R2: 0.8327068530074031, RMSE: 29926.7794449836\n"
     ]
    }
   ],
   "source": [
    "r2, rmse = quick_lr(best_corrs.columns.tolist())\n",
    "print(f'Adjusted R2: {adjusted_r2(r2, X_train, y_train)}, RMSE: {rmse}')"
   ]
  },
  {
   "cell_type": "markdown",
   "id": "extreme-stuff",
   "metadata": {},
   "source": [
    "- An MLR using only the columns that are most strongly correlated to sale price shows a fair decrease in both R2 and RMSE compared to LASSO and Ridge. The clear reason for this is that more than half of the variables correlated with price are also colinear, violating LINE assumptions."
   ]
  },
  {
   "cell_type": "code",
   "execution_count": 15,
   "id": "liquid-confidence",
   "metadata": {},
   "outputs": [
    {
     "name": "stdout",
     "output_type": "stream",
     "text": [
      "Adjusted R2: 0.6323485412857869, RMSE: 44364.8537576636\n"
     ]
    }
   ],
   "source": [
    "r2, rmse = quick_lr([key for key, val in counts.items() if val < 4])\n",
    "print(f'Adjusted R2: {adjusted_r2(r2, X_train, y_train)}, RMSE: {rmse}')"
   ]
  },
  {
   "cell_type": "markdown",
   "id": "finished-huntington",
   "metadata": {},
   "source": [
    "- Finally, an MLR selecting for the columns strongly correlated to sale price while also being the least correlated with each other provides an even worse R2 and and RMSE of roughly 2/3 a baseline model. This is including adjusted R2 on the highly colinear model, which should reduce R2 for having more variables than the low colinearity model. "
   ]
  },
  {
   "cell_type": "markdown",
   "id": "responsible-technical",
   "metadata": {},
   "source": [
    "***Kaggle submission***"
   ]
  },
  {
   "cell_type": "code",
   "execution_count": 16,
   "id": "first-seventh",
   "metadata": {},
   "outputs": [],
   "source": [
    "sc = StandardScaler()\n",
    "Z_train = sc.fit_transform(train[x_list])\n",
    "Z_test = sc.transform(test[x_list])\n",
    "r_alphas = np.logspace(0,100,1000)\n",
    "lasso_cv = LassoCV(alphas=r_alphas, random_state=42, cv=5, max_iter = 10000)\n",
    "lasso_cv.fit(Z_train,y)\n",
    "test_ids = test['id']\n",
    "test_preds = lasso_cv.predict(Z_test)"
   ]
  },
  {
   "cell_type": "code",
   "execution_count": 17,
   "id": "royal-battlefield",
   "metadata": {
    "ExecuteTime": {
     "end_time": "2021-04-08T20:44:29.152317Z",
     "start_time": "2021-04-08T20:44:29.144338Z"
    }
   },
   "outputs": [],
   "source": [
    "#credit to Gwen Rathgeber\n",
    "kaggle_submission = {\n",
    "    'Id': test_ids,\n",
    "    'SalePrice': test_preds\n",
    "}\n",
    "\n",
    "kaggle_submission = pd.DataFrame(kaggle_submission)"
   ]
  },
  {
   "cell_type": "code",
   "execution_count": 18,
   "id": "valid-discrimination",
   "metadata": {
    "ExecuteTime": {
     "end_time": "2021-04-08T20:44:29.183743Z",
     "start_time": "2021-04-08T20:44:29.161293Z"
    }
   },
   "outputs": [
    {
     "data": {
      "text/html": [
       "<div>\n",
       "<style scoped>\n",
       "    .dataframe tbody tr th:only-of-type {\n",
       "        vertical-align: middle;\n",
       "    }\n",
       "\n",
       "    .dataframe tbody tr th {\n",
       "        vertical-align: top;\n",
       "    }\n",
       "\n",
       "    .dataframe thead th {\n",
       "        text-align: right;\n",
       "    }\n",
       "</style>\n",
       "<table border=\"1\" class=\"dataframe\">\n",
       "  <thead>\n",
       "    <tr style=\"text-align: right;\">\n",
       "      <th></th>\n",
       "      <th>Id</th>\n",
       "      <th>SalePrice</th>\n",
       "    </tr>\n",
       "  </thead>\n",
       "  <tbody>\n",
       "    <tr>\n",
       "      <th>0</th>\n",
       "      <td>2658</td>\n",
       "      <td>135547.345824</td>\n",
       "    </tr>\n",
       "    <tr>\n",
       "      <th>1</th>\n",
       "      <td>2718</td>\n",
       "      <td>154943.062667</td>\n",
       "    </tr>\n",
       "    <tr>\n",
       "      <th>2</th>\n",
       "      <td>2414</td>\n",
       "      <td>230483.684384</td>\n",
       "    </tr>\n",
       "    <tr>\n",
       "      <th>3</th>\n",
       "      <td>1989</td>\n",
       "      <td>112894.736296</td>\n",
       "    </tr>\n",
       "    <tr>\n",
       "      <th>4</th>\n",
       "      <td>625</td>\n",
       "      <td>176565.127608</td>\n",
       "    </tr>\n",
       "  </tbody>\n",
       "</table>\n",
       "</div>"
      ],
      "text/plain": [
       "     Id      SalePrice\n",
       "0  2658  135547.345824\n",
       "1  2718  154943.062667\n",
       "2  2414  230483.684384\n",
       "3  1989  112894.736296\n",
       "4   625  176565.127608"
      ]
     },
     "execution_count": 18,
     "metadata": {},
     "output_type": "execute_result"
    }
   ],
   "source": [
    "kaggle_submission.head(5)"
   ]
  },
  {
   "cell_type": "raw",
   "id": "alert-technician",
   "metadata": {},
   "source": [
    "kaggle_submission.to_csv('./datasets/kaggle_submission.csv', index=False)"
   ]
  },
  {
   "cell_type": "markdown",
   "id": "photographic-presence",
   "metadata": {},
   "source": [
    "***Kaggle Results***"
   ]
  },
  {
   "cell_type": "markdown",
   "id": "stuffed-davis",
   "metadata": {},
   "source": [
    "Submissions:\n",
    "   - LASSO no buckets no outliers: 26734.00198\n",
    "   - LASSO no buckets: 29754.67899\n",
    "   - LASSO with outliers: 32135.00957\n",
    "   - LASSO without outliers: 32414.92745 (30734.27885 with better buckets)\n",
    "   - Linear using LASSO as feature selection: 28405.96638\n",
    "   - Ridge no buckets: 32813.94436\n",
    "   - Ridge with outliers: 32593.92522\n",
    "   - Ridge without outliers: 33994.54079\n",
    "   - Just best corrs: 34950.18614\n",
    "   - Min colinearity: 51789.76432\n",
    "   - Dummy: 80723.5596924164"
   ]
  },
  {
   "cell_type": "code",
   "execution_count": 21,
   "id": "numerous-bangkok",
   "metadata": {},
   "outputs": [],
   "source": [
    "rmses = {'RMSE': {'Baseline': 80723.5596924164, 'Linear': 51789.76432, 'Ridge': 32593.92522, 'Linear+LASSO':28405.96638, 'LASSO':26734.00198}}"
   ]
  },
  {
   "cell_type": "code",
   "execution_count": 22,
   "id": "running-question",
   "metadata": {},
   "outputs": [],
   "source": [
    "rmse_chart = pd.DataFrame(rmses)"
   ]
  },
  {
   "cell_type": "code",
   "execution_count": 31,
   "id": "published-denial",
   "metadata": {},
   "outputs": [],
   "source": [
    "rmse_chart = rmse_chart.reset_index()"
   ]
  },
  {
   "cell_type": "code",
   "execution_count": 37,
   "id": "perfect-disclosure",
   "metadata": {},
   "outputs": [],
   "source": [
    "rmse_chart.sort_values(by = 'RMSE', ascending = False, inplace = True)"
   ]
  },
  {
   "cell_type": "code",
   "execution_count": 40,
   "id": "given-bottle",
   "metadata": {},
   "outputs": [
    {
     "data": {
      "image/png": "[encoded data removed]",
      "text/plain": [
       "<Figure size 432x288 with 1 Axes>"
      ]
     },
     "metadata": {
      "needs_background": "light"
     },
     "output_type": "display_data"
    }
   ],
   "source": [
    "sns.barplot(data = rmse_chart, y = 'RMSE', x= 'index')\n",
    "plt.title('Root mean squared error of multiple linear models')\n",
    "plt.xlabel('Linear model type')\n",
    "plt.show()"
   ]
  },
  {
   "cell_type": "markdown",
   "id": "fantastic-underground",
   "metadata": {},
   "source": [
    "- For analysis, we will use LASSO to select best features (as it has the best error), followed by a linear model on those features (for predictive power)."
   ]
  },
  {
   "cell_type": "markdown",
   "id": "earlier-pilot",
   "metadata": {},
   "source": [
    "***To step 3***"
   ]
  }
 ],
 "metadata": {
  "kernelspec": {
   "display_name": "Python 3",
   "language": "python",
   "name": "python3"
  },
  "language_info": {
   "codemirror_mode": {
    "name": "ipython",
    "version": 3
   },
   "file_extension": ".py",
   "mimetype": "text/x-python",
   "name": "python",
   "nbconvert_exporter": "python",
   "pygments_lexer": "ipython3",
   "version": "3.7.6"
  }
 },
 "nbformat": 4,
 "nbformat_minor": 5
}
